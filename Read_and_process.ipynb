{
 "cells": [
  {
   "cell_type": "code",
   "execution_count": null,
   "metadata": {
    "colab": {
     "base_uri": "https://localhost:8080/"
    },
    "id": "qM3wg8rYy72I",
    "outputId": "fd367b9d-eef8-46d5-ae7d-fb4deae06137"
   },
   "outputs": [
    {
     "name": "stdout",
     "output_type": "stream",
     "text": [
      "Mounted at /content/drive\n"
     ]
    }
   ],
   "source": [
    "from google.colab import drive\n",
    "drive.mount('/content/drive',force_remount=True)"
   ]
  },
  {
   "cell_type": "code",
   "execution_count": null,
   "metadata": {
    "colab": {
     "base_uri": "https://localhost:8080/"
    },
    "id": "dv2077c1zH4O",
    "outputId": "8e19f8fb-3a45-4d6c-aae9-e39926032e06"
   },
   "outputs": [
    {
     "name": "stdout",
     "output_type": "stream",
     "text": [
      "/content/drive/My Drive/Đồ Án Tốt Nghiệp Machine Learning\n"
     ]
    }
   ],
   "source": [
    "%cd '/content/drive/My Drive/Đồ Án Tốt Nghiệp Machine Learning/'"
   ]
  },
  {
   "cell_type": "code",
   "execution_count": 1,
   "metadata": {
    "id": "Nk5jfGFKzJI7"
   },
   "outputs": [],
   "source": [
    "import pandas as pd\n",
    "import numpy as np"
   ]
  },
  {
   "cell_type": "code",
   "execution_count": 2,
   "metadata": {
    "id": "e6R5zMR5zMG-"
   },
   "outputs": [],
   "source": [
    "account = pd.read_csv(\"Data/Accounts Report SV1.csv\",header = 1,sep=\";\",engine='python')\n",
    "order = pd.read_csv(\"Data/Orders Report SV1.csv\",header = 1,sep=\";\",engine='python',error_bad_lines=False, warn_bad_lines=False)\n",
    "order_combines_1 = order[['Login','Reason','Time','Type','Symbol','Volume','Price','Swap','Profit','Comment']]\n",
    "account = account.sort_values(by=\"Login\").iloc[2::]\n",
    "account['Login'] = account['Login'].astype(int)\n",
    "order_combines_1 = order_combines_1.merge(account,how=\"inner\",left_on=\"Login\",right_on=\"Login\",validate=\"many_to_one\")\n",
    "order_combines_1 = order_combines_1[['Login','Group','Reason', 'Time', 'Type', 'Symbol', 'Volume', 'Price', 'Swap','Balance','Credit','Reg.date',\"Profit\",\"Comment_x\"]]\n",
    "order_combines_1.rename(columns={\"Comment_x\":\"Comment\"},inplace=True)"
   ]
  },
  {
   "cell_type": "code",
   "execution_count": 3,
   "metadata": {
    "id": "btIRcVy32s8m"
   },
   "outputs": [],
   "source": [
    "account = pd.read_csv(\"Data/Accounts Report SV2.csv\",header = 1,sep=\";\",engine='python')\n",
    "order = pd.read_csv(\"Data/Orders Report SV2.csv\",header = 1,sep=\";\",engine='python',error_bad_lines=False, warn_bad_lines=False)\n",
    "order_combines_2 = order[['Login','Reason','Time','Type','Symbol','Volume','Price','Swap','Profit','Comment']]\n",
    "account = account.sort_values(by=\"Login\").iloc[2::]\n",
    "account['Login'] = account['Login'].astype(int)\n",
    "order_combines_2 = order_combines_2.merge(account,how=\"inner\",left_on=\"Login\",right_on=\"Login\",validate=\"many_to_one\")\n",
    "order_combines_2 = order_combines_2[['Login','Group','Reason', 'Time', 'Type', 'Symbol', 'Volume', 'Price', 'Swap','Balance','Credit','Reg.date',\"Profit\",\"Comment_x\"]]\n",
    "order_combines_2.rename(columns={\"Comment_x\":\"Comment\"},inplace=True)"
   ]
  },
  {
   "cell_type": "code",
   "execution_count": 4,
   "metadata": {
    "id": "dh8YHOrlzUCl"
   },
   "outputs": [],
   "source": [
    "order_combines = pd.concat([order_combines_1,order_combines_2],axis=0)"
   ]
  },
  {
   "cell_type": "code",
   "execution_count": 5,
   "metadata": {
    "id": "VfjHIrqm3qeA"
   },
   "outputs": [],
   "source": [
    "order_combines = order_combines[order_combines['Symbol'].map(lambda x: \"fx\" not in x)]\n",
    "order_combines = order_combines[order_combines['Credit']>0]\n",
    "order_combines['Reason'] = order_combines['Reason'].fillna(\"Mobile\")\n",
    "order_combines = order_combines[order_combines['Symbol'].map(lambda x:x not in ['jpxjpy','usdhkd'])]"
   ]
  },
  {
   "cell_type": "code",
   "execution_count": 6,
   "metadata": {
    "id": "JCub2LuR39Pm"
   },
   "outputs": [],
   "source": [
    "order_combines.to_csv(\"Data_new_23112020.csv\")"
   ]
  }
 ],
 "metadata": {
  "colab": {
   "collapsed_sections": [],
   "name": "Read_and_process.ipynb",
   "provenance": []
  },
  "kernelspec": {
   "display_name": "Python 3",
   "language": "python",
   "name": "python3"
  },
  "language_info": {
   "codemirror_mode": {
    "name": "ipython",
    "version": 3
   },
   "file_extension": ".py",
   "mimetype": "text/x-python",
   "name": "python",
   "nbconvert_exporter": "python",
   "pygments_lexer": "ipython3",
   "version": "3.7.4"
  }
 },
 "nbformat": 4,
 "nbformat_minor": 1
}
