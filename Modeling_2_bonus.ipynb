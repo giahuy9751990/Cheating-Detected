{
 "cells": [
  {
   "cell_type": "markdown",
   "metadata": {},
   "source": [
    "# Giới thiệu vấn đề\n",
    "  1. Các sàn forex thường có những chương trình khuyến mãi tặng thưởng cho người chơi. Khi 2 người chơi cùng mở 1 lệnh ở cùng một thời điểm nhưng ngược nhau BUY vs SELL thì một người sẽ lời và một người sẽ lỗ với số tiền tương ứng như nhau. Khi đó thì sàn sẽ bị lỗ rất nhiều nếu không ngăn chặn được.\n",
    "  2. Dữ liệu được lấy từ kho dữ liệu của sàn. Và được lấy trực tiếp từ các lệnh đang giao dịch trên sàn bằng cách quét tất cả các giao dịch hiện tại và đưa ra những giao dịch khả nghi.\n",
    "  3. Các bước thực hiện\n",
    "    1.   Đánh giá các giao dịch, đưa ra các list giao dịch khả nghi.\n",
    "    2.   Xác định các giao dịch đối xứng với giao dịch khả nghi đó. VD: nếu 1 tài khoản SELL 100VND được đánh giá là khả nghi thì tìm ra cặp đối xứng BUY 100VND. Việc dò tìm cặp đối xứng này tốn khá nhiều thời gian.\n",
    "    3. Nếu tìm ra được cặp đối xứng thì sẽ báo cáo là 2 tài khoản gian lận trong cùng sàn. Ngược lại, nếu không tìm được thì sẽ báo cáo là gian lận với một sàn khác. Việc báo cáo này dựa trên kinh nghiệm và trực giác, chủ quan của người đánh giá.\n",
    "    4. Do việc gian lận có thể được người chơi thực hiện bằng nhiều hình thức khác nhau. VD: 1 tài khoản có thể chơi gian lận với 2 tài khoản khác. Hoặc nhiều loại tiền khác nhau. Hoặc có thể xử dụng **TOOLS** để mở nhiều lệnh rất nhỏ. Vì vậy mô hình có thể bị bỏ xót các giao dịch như vậy. Xây dựng một mô hình đánh giá mức độ giống nhau của các lệnh đang mở trên sàn."
   ]
  },
  {
   "cell_type": "code",
   "execution_count": 1,
   "metadata": {
    "executionInfo": {
     "elapsed": 8249,
     "status": "ok",
     "timestamp": 1605942309240,
     "user": {
      "displayName": "Huy Nguyen",
      "photoUrl": "https://lh3.googleusercontent.com/a-/AOh14GjFoiqvt8rPwmobB1-5sT-zHz-Jn_LpiYRAQgpD=s64",
      "userId": "13787552803651349735"
     },
     "user_tz": -420
    },
    "id": "SfFiFok8KFP9"
   },
   "outputs": [],
   "source": [
    "import pandas as pd\n",
    "import numpy as np\n",
    "import matplotlib.pyplot as plt\n",
    "import seaborn as sb\n",
    "import ML_Model as md\n",
    "import ML_Phantich as pt\n",
    "import ML_Transform as mt\n",
    "from sklearn.compose import ColumnTransformer\n",
    "from sklearn.preprocessing import OneHotEncoder\n",
    "from sklearn.preprocessing import LabelEncoder\n",
    "import pickle\n",
    "from sklearn.metrics import accuracy_score, f1_score, precision_score, recall_score, classification_report, confusion_matrix\n",
    "from sklearn.preprocessing import LabelEncoder\n",
    "from sklearn.neighbors import NearestNeighbors\n",
    "from datetime import datetime\n",
    "from scipy.stats import chi2_contingency\n",
    "from scipy.stats import chi2\n",
    "import statsmodels.api as sm\n",
    "from statsmodels.formula.api import ols\n",
    "from sklearn.ensemble import RandomForestClassifier"
   ]
  },
  {
   "cell_type": "code",
   "execution_count": 2,
   "metadata": {
    "colab": {
     "base_uri": "https://localhost:8080/"
    },
    "executionInfo": {
     "elapsed": 7703,
     "status": "ok",
     "timestamp": 1605942310670,
     "user": {
      "displayName": "Huy Nguyen",
      "photoUrl": "https://lh3.googleusercontent.com/a-/AOh14GjFoiqvt8rPwmobB1-5sT-zHz-Jn_LpiYRAQgpD=s64",
      "userId": "13787552803651349735"
     },
     "user_tz": -420
    },
    "id": "vLc6kkQ1KcIM",
    "outputId": "ea9540ba-c1ba-4464-eaf4-71017de0bbab",
    "scrolled": true
   },
   "outputs": [
    {
     "name": "stderr",
     "output_type": "stream",
     "text": [
      "c:\\users\\admin\\appdata\\local\\programs\\python\\python38\\lib\\site-packages\\IPython\\core\\interactiveshell.py:3062: DtypeWarning: Columns (9,13,14) have mixed types.Specify dtype option on import or set low_memory=False.\n",
      "  has_raised = await self.run_ast_nodes(code_ast.body, cell_name,\n"
     ]
    }
   ],
   "source": [
    "df = pd.read_csv(\"Data Modeling/Data_2_bonus.csv\")"
   ]
  },
  {
   "cell_type": "code",
   "execution_count": 3,
   "metadata": {
    "executionInfo": {
     "elapsed": 4278,
     "status": "ok",
     "timestamp": 1605942310671,
     "user": {
      "displayName": "Huy Nguyen",
      "photoUrl": "https://lh3.googleusercontent.com/a-/AOh14GjFoiqvt8rPwmobB1-5sT-zHz-Jn_LpiYRAQgpD=s64",
      "userId": "13787552803651349735"
     },
     "user_tz": -420
    },
    "id": "Q6SHUxllNujT"
   },
   "outputs": [],
   "source": [
    "df.rename(columns={'Symbol':'Volume',\"Volume\":'Symbol'},inplace=True)"
   ]
  },
  {
   "cell_type": "code",
   "execution_count": 4,
   "metadata": {},
   "outputs": [
    {
     "data": {
      "text/html": [
       "<div>\n",
       "<style scoped>\n",
       "    .dataframe tbody tr th:only-of-type {\n",
       "        vertical-align: middle;\n",
       "    }\n",
       "\n",
       "    .dataframe tbody tr th {\n",
       "        vertical-align: top;\n",
       "    }\n",
       "\n",
       "    .dataframe thead th {\n",
       "        text-align: right;\n",
       "    }\n",
       "</style>\n",
       "<table border=\"1\" class=\"dataframe\">\n",
       "  <thead>\n",
       "    <tr style=\"text-align: right;\">\n",
       "      <th></th>\n",
       "      <th>Account</th>\n",
       "      <th>Ticket</th>\n",
       "      <th>Time</th>\n",
       "      <th>Type</th>\n",
       "      <th>Volume</th>\n",
       "      <th>Symbol</th>\n",
       "      <th>Open Price</th>\n",
       "      <th>S / L</th>\n",
       "      <th>T / P</th>\n",
       "      <th>Close Time</th>\n",
       "      <th>Close Price</th>\n",
       "      <th>Commission</th>\n",
       "      <th>Taxes</th>\n",
       "      <th>Swap</th>\n",
       "      <th>Profit</th>\n",
       "      <th>Balance</th>\n",
       "      <th>Bonus</th>\n",
       "      <th>Target</th>\n",
       "    </tr>\n",
       "  </thead>\n",
       "  <tbody>\n",
       "    <tr>\n",
       "      <th>0</th>\n",
       "      <td>5353407</td>\n",
       "      <td>61928436.0</td>\n",
       "      <td>2020.11.09 07:19:04</td>\n",
       "      <td>buy</td>\n",
       "      <td>3.0</td>\n",
       "      <td>usdjpy</td>\n",
       "      <td>103.460</td>\n",
       "      <td>103.3</td>\n",
       "      <td>0.0</td>\n",
       "      <td>2020.11.09 14:00:41</td>\n",
       "      <td>104.181</td>\n",
       "      <td>0</td>\n",
       "      <td>0</td>\n",
       "      <td>0</td>\n",
       "      <td>216 300</td>\n",
       "      <td>500000.0</td>\n",
       "      <td>1000000.0</td>\n",
       "      <td>1</td>\n",
       "    </tr>\n",
       "    <tr>\n",
       "      <th>1</th>\n",
       "      <td>5353407</td>\n",
       "      <td>61953817.0</td>\n",
       "      <td>2020.11.09 14:00:49</td>\n",
       "      <td>sell</td>\n",
       "      <td>4.0</td>\n",
       "      <td>usdjpy</td>\n",
       "      <td>104.179</td>\n",
       "      <td>0.0</td>\n",
       "      <td>0.0</td>\n",
       "      <td>2020.11.09 16:49:32</td>\n",
       "      <td>105.235</td>\n",
       "      <td>0</td>\n",
       "      <td>0</td>\n",
       "      <td>0</td>\n",
       "      <td>-422 400</td>\n",
       "      <td>500000.0</td>\n",
       "      <td>1000000.0</td>\n",
       "      <td>1</td>\n",
       "    </tr>\n",
       "    <tr>\n",
       "      <th>2</th>\n",
       "      <td>5353407</td>\n",
       "      <td>61966332.0</td>\n",
       "      <td>2020.11.09 14:57:08</td>\n",
       "      <td>sell</td>\n",
       "      <td>4.0</td>\n",
       "      <td>usdjpy</td>\n",
       "      <td>104.860</td>\n",
       "      <td>0.0</td>\n",
       "      <td>0.0</td>\n",
       "      <td>2020.11.09 16:53:44</td>\n",
       "      <td>105.261</td>\n",
       "      <td>0</td>\n",
       "      <td>0</td>\n",
       "      <td>0</td>\n",
       "      <td>-160 400</td>\n",
       "      <td>500000.0</td>\n",
       "      <td>1000000.0</td>\n",
       "      <td>1</td>\n",
       "    </tr>\n",
       "    <tr>\n",
       "      <th>3</th>\n",
       "      <td>5353407</td>\n",
       "      <td>61966335.0</td>\n",
       "      <td>2020.11.09 14:57:11</td>\n",
       "      <td>sell</td>\n",
       "      <td>4.0</td>\n",
       "      <td>usdjpy</td>\n",
       "      <td>104.859</td>\n",
       "      <td>0.0</td>\n",
       "      <td>0.0</td>\n",
       "      <td>2020.11.09 16:53:42</td>\n",
       "      <td>105.266</td>\n",
       "      <td>0</td>\n",
       "      <td>0</td>\n",
       "      <td>0</td>\n",
       "      <td>-162 800</td>\n",
       "      <td>500000.0</td>\n",
       "      <td>1000000.0</td>\n",
       "      <td>1</td>\n",
       "    </tr>\n",
       "    <tr>\n",
       "      <th>4</th>\n",
       "      <td>5353407</td>\n",
       "      <td>61966341.0</td>\n",
       "      <td>2020.11.09 14:57:13</td>\n",
       "      <td>sell</td>\n",
       "      <td>4.0</td>\n",
       "      <td>usdjpy</td>\n",
       "      <td>104.854</td>\n",
       "      <td>0.0</td>\n",
       "      <td>0.0</td>\n",
       "      <td>2020.11.09 16:53:15</td>\n",
       "      <td>105.255</td>\n",
       "      <td>0</td>\n",
       "      <td>0</td>\n",
       "      <td>0</td>\n",
       "      <td>-160 400</td>\n",
       "      <td>500000.0</td>\n",
       "      <td>1000000.0</td>\n",
       "      <td>1</td>\n",
       "    </tr>\n",
       "  </tbody>\n",
       "</table>\n",
       "</div>"
      ],
      "text/plain": [
       "   Account      Ticket                 Time  Type  Volume  Symbol  Open Price  \\\n",
       "0  5353407  61928436.0  2020.11.09 07:19:04   buy     3.0  usdjpy     103.460   \n",
       "1  5353407  61953817.0  2020.11.09 14:00:49  sell     4.0  usdjpy     104.179   \n",
       "2  5353407  61966332.0  2020.11.09 14:57:08  sell     4.0  usdjpy     104.860   \n",
       "3  5353407  61966335.0  2020.11.09 14:57:11  sell     4.0  usdjpy     104.859   \n",
       "4  5353407  61966341.0  2020.11.09 14:57:13  sell     4.0  usdjpy     104.854   \n",
       "\n",
       "   S / L  T / P           Close Time  Close Price  Commission  Taxes Swap  \\\n",
       "0  103.3    0.0  2020.11.09 14:00:41      104.181           0      0    0   \n",
       "1    0.0    0.0  2020.11.09 16:49:32      105.235           0      0    0   \n",
       "2    0.0    0.0  2020.11.09 16:53:44      105.261           0      0    0   \n",
       "3    0.0    0.0  2020.11.09 16:53:42      105.266           0      0    0   \n",
       "4    0.0    0.0  2020.11.09 16:53:15      105.255           0      0    0   \n",
       "\n",
       "     Profit   Balance      Bonus  Target  \n",
       "0   216 300  500000.0  1000000.0       1  \n",
       "1  -422 400  500000.0  1000000.0       1  \n",
       "2  -160 400  500000.0  1000000.0       1  \n",
       "3  -162 800  500000.0  1000000.0       1  \n",
       "4  -160 400  500000.0  1000000.0       1  "
      ]
     },
     "execution_count": 4,
     "metadata": {},
     "output_type": "execute_result"
    }
   ],
   "source": [
    "df.head(5)"
   ]
  },
  {
   "cell_type": "code",
   "execution_count": 5,
   "metadata": {},
   "outputs": [
    {
     "data": {
      "text/plain": [
       "(87946, 18)"
      ]
     },
     "execution_count": 5,
     "metadata": {},
     "output_type": "execute_result"
    }
   ],
   "source": [
    "df.shape"
   ]
  },
  {
   "cell_type": "code",
   "execution_count": 6,
   "metadata": {},
   "outputs": [],
   "source": [
    "df = df.drop_duplicates()"
   ]
  },
  {
   "cell_type": "code",
   "execution_count": 7,
   "metadata": {},
   "outputs": [
    {
     "data": {
      "text/plain": [
       "(87265, 18)"
      ]
     },
     "execution_count": 7,
     "metadata": {},
     "output_type": "execute_result"
    }
   ],
   "source": [
    "df.shape"
   ]
  },
  {
   "cell_type": "markdown",
   "metadata": {},
   "source": [
    "# Xem xét các biến\n",
    "## Loại bỏ biến\n",
    "    1.Biến Close Price, Close Time, Profit rất quan trọng trong việc đánh giá 2 giao dịch có gian lận hay không. Bởi vì nếu 2 giao dịch mở cùng một thời gian và có số tiền thưởng giống nhau sẽ có 2 trường hợp xảy ra :\n",
    "    2. Nếu 2 giao dịch đó đóng cùng thời gian, profit lời/lỗ tương đương nhau, Close Price bằng nhau thì sẽ được đánh giá là gian lận.\n",
    "    3. Ngược lại, sẽ đánh giá là giao dịch do 2 người chơi mở ngẫu nhiên. Nhưng do hệ thống xây dựng trên mô hình trực tuyến khi các lệnh còn đang mở, chưa biết được khi nào các giao dịch đóng lệnh vì vậy các giá trị Close Price, Close Time, Profit cũng không thể lấy được trên hệ thống. -> Bỏ cả 3 biến này.\n",
    "    4. Dựa vào kinh nghiệm làm việc thì ta sẽ loại bỏ các biến bao gồm : S / L, T / P, Commission, Taxes,Swap. Các biến này không liên quan đến việc đánh giá giao dịch gian lận hay không."
   ]
  },
  {
   "cell_type": "code",
   "execution_count": 7,
   "metadata": {},
   "outputs": [
    {
     "data": {
      "text/html": [
       "<div>\n",
       "<style scoped>\n",
       "    .dataframe tbody tr th:only-of-type {\n",
       "        vertical-align: middle;\n",
       "    }\n",
       "\n",
       "    .dataframe tbody tr th {\n",
       "        vertical-align: top;\n",
       "    }\n",
       "\n",
       "    .dataframe thead th {\n",
       "        text-align: right;\n",
       "    }\n",
       "</style>\n",
       "<table border=\"1\" class=\"dataframe\">\n",
       "  <thead>\n",
       "    <tr style=\"text-align: right;\">\n",
       "      <th></th>\n",
       "      <th>Account</th>\n",
       "      <th>Ticket</th>\n",
       "      <th>Volume</th>\n",
       "      <th>Open Price</th>\n",
       "      <th>S / L</th>\n",
       "      <th>T / P</th>\n",
       "      <th>Close Price</th>\n",
       "      <th>Commission</th>\n",
       "      <th>Taxes</th>\n",
       "      <th>Balance</th>\n",
       "      <th>Bonus</th>\n",
       "      <th>Target</th>\n",
       "    </tr>\n",
       "  </thead>\n",
       "  <tbody>\n",
       "    <tr>\n",
       "      <td>count</td>\n",
       "      <td>8.822600e+04</td>\n",
       "      <td>3.435000e+03</td>\n",
       "      <td>88226.000000</td>\n",
       "      <td>8.820300e+04</td>\n",
       "      <td>88226.000000</td>\n",
       "      <td>88210.000000</td>\n",
       "      <td>88147.000000</td>\n",
       "      <td>88226.0</td>\n",
       "      <td>88226.0</td>\n",
       "      <td>8.822600e+04</td>\n",
       "      <td>8.822600e+04</td>\n",
       "      <td>88226.00000</td>\n",
       "    </tr>\n",
       "    <tr>\n",
       "      <td>mean</td>\n",
       "      <td>1.231265e+08</td>\n",
       "      <td>5.705994e+07</td>\n",
       "      <td>0.543314</td>\n",
       "      <td>8.829626e+02</td>\n",
       "      <td>0.098718</td>\n",
       "      <td>1.488511</td>\n",
       "      <td>5.603160</td>\n",
       "      <td>0.0</td>\n",
       "      <td>0.0</td>\n",
       "      <td>7.343175e+05</td>\n",
       "      <td>4.618634e+05</td>\n",
       "      <td>0.03983</td>\n",
       "    </tr>\n",
       "    <tr>\n",
       "      <td>std</td>\n",
       "      <td>9.536398e+07</td>\n",
       "      <td>6.421491e+06</td>\n",
       "      <td>2.024708</td>\n",
       "      <td>1.063301e+05</td>\n",
       "      <td>9.588444</td>\n",
       "      <td>42.084956</td>\n",
       "      <td>80.894786</td>\n",
       "      <td>0.0</td>\n",
       "      <td>0.0</td>\n",
       "      <td>1.727865e+06</td>\n",
       "      <td>8.480604e+05</td>\n",
       "      <td>0.19556</td>\n",
       "    </tr>\n",
       "    <tr>\n",
       "      <td>min</td>\n",
       "      <td>1.059700e+04</td>\n",
       "      <td>2.178810e+06</td>\n",
       "      <td>0.010000</td>\n",
       "      <td>1.000000e-05</td>\n",
       "      <td>0.000000</td>\n",
       "      <td>0.000000</td>\n",
       "      <td>0.000000</td>\n",
       "      <td>0.0</td>\n",
       "      <td>0.0</td>\n",
       "      <td>-1.717014e+06</td>\n",
       "      <td>2.000000e-01</td>\n",
       "      <td>0.00000</td>\n",
       "    </tr>\n",
       "    <tr>\n",
       "      <td>25%</td>\n",
       "      <td>5.350453e+06</td>\n",
       "      <td>5.479026e+07</td>\n",
       "      <td>0.010000</td>\n",
       "      <td>1.202000e+00</td>\n",
       "      <td>0.000000</td>\n",
       "      <td>0.000000</td>\n",
       "      <td>0.000000</td>\n",
       "      <td>0.0</td>\n",
       "      <td>0.0</td>\n",
       "      <td>3.063425e+04</td>\n",
       "      <td>2.000000e+04</td>\n",
       "      <td>0.00000</td>\n",
       "    </tr>\n",
       "    <tr>\n",
       "      <td>50%</td>\n",
       "      <td>2.000945e+08</td>\n",
       "      <td>5.983849e+07</td>\n",
       "      <td>0.050000</td>\n",
       "      <td>1.040690e+02</td>\n",
       "      <td>0.000000</td>\n",
       "      <td>0.000000</td>\n",
       "      <td>0.000000</td>\n",
       "      <td>0.0</td>\n",
       "      <td>0.0</td>\n",
       "      <td>2.000000e+05</td>\n",
       "      <td>1.355000e+05</td>\n",
       "      <td>0.00000</td>\n",
       "    </tr>\n",
       "    <tr>\n",
       "      <td>75%</td>\n",
       "      <td>2.001559e+08</td>\n",
       "      <td>6.113455e+07</td>\n",
       "      <td>0.250000</td>\n",
       "      <td>1.084305e+02</td>\n",
       "      <td>0.000000</td>\n",
       "      <td>0.000000</td>\n",
       "      <td>0.000000</td>\n",
       "      <td>0.0</td>\n",
       "      <td>0.0</td>\n",
       "      <td>7.400000e+05</td>\n",
       "      <td>5.100000e+05</td>\n",
       "      <td>0.00000</td>\n",
       "    </tr>\n",
       "    <tr>\n",
       "      <td>max</td>\n",
       "      <td>2.002194e+08</td>\n",
       "      <td>6.377423e+07</td>\n",
       "      <td>140.000000</td>\n",
       "      <td>2.993001e+07</td>\n",
       "      <td>1965.000000</td>\n",
       "      <td>1989.000000</td>\n",
       "      <td>1966.290000</td>\n",
       "      <td>0.0</td>\n",
       "      <td>0.0</td>\n",
       "      <td>4.921817e+07</td>\n",
       "      <td>9.020000e+06</td>\n",
       "      <td>1.00000</td>\n",
       "    </tr>\n",
       "  </tbody>\n",
       "</table>\n",
       "</div>"
      ],
      "text/plain": [
       "            Account        Ticket        Volume    Open Price         S / L  \\\n",
       "count  8.822600e+04  3.435000e+03  88226.000000  8.820300e+04  88226.000000   \n",
       "mean   1.231265e+08  5.705994e+07      0.543314  8.829626e+02      0.098718   \n",
       "std    9.536398e+07  6.421491e+06      2.024708  1.063301e+05      9.588444   \n",
       "min    1.059700e+04  2.178810e+06      0.010000  1.000000e-05      0.000000   \n",
       "25%    5.350453e+06  5.479026e+07      0.010000  1.202000e+00      0.000000   \n",
       "50%    2.000945e+08  5.983849e+07      0.050000  1.040690e+02      0.000000   \n",
       "75%    2.001559e+08  6.113455e+07      0.250000  1.084305e+02      0.000000   \n",
       "max    2.002194e+08  6.377423e+07    140.000000  2.993001e+07   1965.000000   \n",
       "\n",
       "              T / P   Close Price  Commission    Taxes       Balance  \\\n",
       "count  88210.000000  88147.000000     88226.0  88226.0  8.822600e+04   \n",
       "mean       1.488511      5.603160         0.0      0.0  7.343175e+05   \n",
       "std       42.084956     80.894786         0.0      0.0  1.727865e+06   \n",
       "min        0.000000      0.000000         0.0      0.0 -1.717014e+06   \n",
       "25%        0.000000      0.000000         0.0      0.0  3.063425e+04   \n",
       "50%        0.000000      0.000000         0.0      0.0  2.000000e+05   \n",
       "75%        0.000000      0.000000         0.0      0.0  7.400000e+05   \n",
       "max     1989.000000   1966.290000         0.0      0.0  4.921817e+07   \n",
       "\n",
       "              Bonus       Target  \n",
       "count  8.822600e+04  88226.00000  \n",
       "mean   4.618634e+05      0.03983  \n",
       "std    8.480604e+05      0.19556  \n",
       "min    2.000000e-01      0.00000  \n",
       "25%    2.000000e+04      0.00000  \n",
       "50%    1.355000e+05      0.00000  \n",
       "75%    5.100000e+05      0.00000  \n",
       "max    9.020000e+06      1.00000  "
      ]
     },
     "execution_count": 7,
     "metadata": {},
     "output_type": "execute_result"
    }
   ],
   "source": [
    "df.describe()"
   ]
  },
  {
   "cell_type": "code",
   "execution_count": 47,
   "metadata": {},
   "outputs": [
    {
     "data": {
      "text/plain": [
       "Index(['Account', 'Ticket', 'Time', 'Type', 'Volume', 'Symbol', 'Open Price',\n",
       "       'S / L', 'T / P', 'Close Time', 'Close Price', 'Commission', 'Taxes',\n",
       "       'Swap', 'Profit', 'Balance', 'Bonus', 'Target'],\n",
       "      dtype='object')"
      ]
     },
     "execution_count": 47,
     "metadata": {},
     "output_type": "execute_result"
    }
   ],
   "source": [
    "df.columns"
   ]
  },
  {
   "cell_type": "code",
   "execution_count": 14,
   "metadata": {},
   "outputs": [],
   "source": [
    "df_analyze = df[['Type','Symbol','Volume','Balance','Bonus','Target']]"
   ]
  },
  {
   "cell_type": "code",
   "execution_count": 15,
   "metadata": {},
   "outputs": [
    {
     "data": {
      "text/html": [
       "<div>\n",
       "<style scoped>\n",
       "    .dataframe tbody tr th:only-of-type {\n",
       "        vertical-align: middle;\n",
       "    }\n",
       "\n",
       "    .dataframe tbody tr th {\n",
       "        vertical-align: top;\n",
       "    }\n",
       "\n",
       "    .dataframe thead th {\n",
       "        text-align: right;\n",
       "    }\n",
       "</style>\n",
       "<table border=\"1\" class=\"dataframe\">\n",
       "  <thead>\n",
       "    <tr style=\"text-align: right;\">\n",
       "      <th></th>\n",
       "      <th>Type</th>\n",
       "      <th>Symbol</th>\n",
       "      <th>Volume</th>\n",
       "      <th>Balance</th>\n",
       "      <th>Bonus</th>\n",
       "      <th>Target</th>\n",
       "    </tr>\n",
       "  </thead>\n",
       "  <tbody>\n",
       "    <tr>\n",
       "      <td>0</td>\n",
       "      <td>sell</td>\n",
       "      <td>usdjpy</td>\n",
       "      <td>5.0</td>\n",
       "      <td>900000.0</td>\n",
       "      <td>910000.0</td>\n",
       "      <td>1</td>\n",
       "    </tr>\n",
       "    <tr>\n",
       "      <td>1</td>\n",
       "      <td>sell</td>\n",
       "      <td>usdjpy</td>\n",
       "      <td>2.0</td>\n",
       "      <td>900000.0</td>\n",
       "      <td>910000.0</td>\n",
       "      <td>1</td>\n",
       "    </tr>\n",
       "    <tr>\n",
       "      <td>2</td>\n",
       "      <td>sell</td>\n",
       "      <td>usdjpy</td>\n",
       "      <td>4.0</td>\n",
       "      <td>900000.0</td>\n",
       "      <td>910000.0</td>\n",
       "      <td>1</td>\n",
       "    </tr>\n",
       "    <tr>\n",
       "      <td>3</td>\n",
       "      <td>sell</td>\n",
       "      <td>usdjpy</td>\n",
       "      <td>3.0</td>\n",
       "      <td>900000.0</td>\n",
       "      <td>910000.0</td>\n",
       "      <td>1</td>\n",
       "    </tr>\n",
       "    <tr>\n",
       "      <td>4</td>\n",
       "      <td>sell</td>\n",
       "      <td>usdjpy</td>\n",
       "      <td>2.0</td>\n",
       "      <td>900000.0</td>\n",
       "      <td>910000.0</td>\n",
       "      <td>1</td>\n",
       "    </tr>\n",
       "  </tbody>\n",
       "</table>\n",
       "</div>"
      ],
      "text/plain": [
       "   Type  Symbol  Volume   Balance     Bonus  Target\n",
       "0  sell  usdjpy     5.0  900000.0  910000.0       1\n",
       "1  sell  usdjpy     2.0  900000.0  910000.0       1\n",
       "2  sell  usdjpy     4.0  900000.0  910000.0       1\n",
       "3  sell  usdjpy     3.0  900000.0  910000.0       1\n",
       "4  sell  usdjpy     2.0  900000.0  910000.0       1"
      ]
     },
     "execution_count": 15,
     "metadata": {},
     "output_type": "execute_result"
    }
   ],
   "source": [
    "df_analyze.head()"
   ]
  },
  {
   "cell_type": "markdown",
   "metadata": {},
   "source": [
    "## Phân tích biến volume"
   ]
  },
  {
   "cell_type": "code",
   "execution_count": 16,
   "metadata": {
    "scrolled": true
   },
   "outputs": [
    {
     "data": {
      "text/plain": [
       "<matplotlib.axes._subplots.AxesSubplot at 0x16408685ac8>"
      ]
     },
     "execution_count": 16,
     "metadata": {},
     "output_type": "execute_result"
    },
    {
     "data": {
      "image/png": "[encoded data removed]",
      "text/plain": [
       "<Figure size 432x288 with 1 Axes>"
      ]
     },
     "metadata": {
      "needs_background": "light"
     },
     "output_type": "display_data"
    }
   ],
   "source": [
    "sb.boxplot(df_analyze.Volume)"
   ]
  },
  {
   "cell_type": "code",
   "execution_count": 17,
   "metadata": {},
   "outputs": [
    {
     "data": {
      "text/plain": [
       "count    88195.000000\n",
       "mean         0.543489\n",
       "std          2.025042\n",
       "min          0.010000\n",
       "25%          0.010000\n",
       "50%          0.050000\n",
       "75%          0.250000\n",
       "max        140.000000\n",
       "Name: Volume, dtype: float64"
      ]
     },
     "execution_count": 17,
     "metadata": {},
     "output_type": "execute_result"
    }
   ],
   "source": [
    "df_analyze.Volume.describe()"
   ]
  },
  {
   "cell_type": "code",
   "execution_count": 18,
   "metadata": {},
   "outputs": [],
   "source": [
    "lower,upper,df_now,df_index = pt.xem_ngoai_le(df_analyze,'Volume')"
   ]
  },
  {
   "cell_type": "code",
   "execution_count": 19,
   "metadata": {},
   "outputs": [
    {
     "name": "stdout",
     "output_type": "stream",
     "text": [
      "Lower : -0.35 , Upper : 0.61\n"
     ]
    }
   ],
   "source": [
    "print(\"Lower : {} , Upper : {}\".format(lower,upper))"
   ]
  },
  {
   "cell_type": "code",
   "execution_count": 20,
   "metadata": {},
   "outputs": [
    {
     "data": {
      "text/plain": [
       "<matplotlib.axes._subplots.AxesSubplot at 0x16408942b08>"
      ]
     },
     "execution_count": 20,
     "metadata": {},
     "output_type": "execute_result"
    },
    {
     "data": {
      "image/png": "[encoded data removed]",
      "text/plain": [
       "<Figure size 432x288 with 1 Axes>"
      ]
     },
     "metadata": {
      "needs_background": "light"
     },
     "output_type": "display_data"
    }
   ],
   "source": [
    "sb.boxplot(x='Target',y='Volume',data=df_analyze,palette=\"Set3\")"
   ]
  },
  {
   "cell_type": "code",
   "execution_count": 21,
   "metadata": {},
   "outputs": [
    {
     "name": "stdout",
     "output_type": "stream",
     "text": [
      "                  sum_sq       df            F  PR(>F)\n",
      "C(Target)   28201.981621      1.0  7458.735497     0.0\n",
      "Residual   333463.677057  88193.0          NaN     NaN\n"
     ]
    }
   ],
   "source": [
    "st = \"Volume\" + \"~ C(\" + \"Target\" + \")\"\n",
    "model =ols(st,data=df_analyze[['Volume','Target']]).fit()\n",
    "anova_table = sm.stats.anova_lm(model,typ=2)\n",
    "print(anova_table)"
   ]
  },
  {
   "cell_type": "code",
   "execution_count": 22,
   "metadata": {},
   "outputs": [
    {
     "data": {
      "text/plain": [
       "count    3514.000000\n",
       "mean        3.319428\n",
       "std         4.549818\n",
       "min         0.050000\n",
       "25%         1.000000\n",
       "50%         2.000000\n",
       "75%         4.000000\n",
       "max        82.000000\n",
       "Name: Volume, dtype: float64"
      ]
     },
     "execution_count": 22,
     "metadata": {},
     "output_type": "execute_result"
    }
   ],
   "source": [
    "df_analyze[df_analyze.Target==1].Volume.describe()"
   ]
  },
  {
   "cell_type": "code",
   "execution_count": 23,
   "metadata": {},
   "outputs": [
    {
     "data": {
      "text/plain": [
       "0.05     0.500\n",
       "0.95    13.175\n",
       "Name: Volume, dtype: float64"
      ]
     },
     "execution_count": 23,
     "metadata": {},
     "output_type": "execute_result"
    }
   ],
   "source": [
    "df_analyze[df_analyze.Target==1].Volume.quantile([0.05,0.95])"
   ]
  },
  {
   "cell_type": "code",
   "execution_count": 24,
   "metadata": {},
   "outputs": [
    {
     "data": {
      "text/plain": [
       "count    84681.000000\n",
       "mean         0.428296\n",
       "std          1.754748\n",
       "min          0.010000\n",
       "25%          0.010000\n",
       "50%          0.040000\n",
       "75%          0.200000\n",
       "max        140.000000\n",
       "Name: Volume, dtype: float64"
      ]
     },
     "execution_count": 24,
     "metadata": {},
     "output_type": "execute_result"
    }
   ],
   "source": [
    "df_analyze[df_analyze.Target==0].Volume.describe()"
   ]
  },
  {
   "cell_type": "code",
   "execution_count": 25,
   "metadata": {},
   "outputs": [
    {
     "data": {
      "text/plain": [
       "0.05    0.01\n",
       "0.95    2.00\n",
       "Name: Volume, dtype: float64"
      ]
     },
     "execution_count": 25,
     "metadata": {},
     "output_type": "execute_result"
    }
   ],
   "source": [
    "df_analyze[df_analyze.Target==0].Volume.quantile([0.05,0.95])"
   ]
  },
  {
   "cell_type": "markdown",
   "metadata": {},
   "source": [
    "### Kết luận biến volume\n",
    "    1. Biến volume này có rất nhiều ngoại lệ. Với ngoại lệ upper là 0.61. Khi phân tích thì ta thấy được những ngoại lệ này phần lớn thuộc về những class 1 với Q1 = 1 và Q2 = 4. Đây là một điều kiện để classifi class 0 và class 1. Ngược lại ở class 0 thì gần như các mẫu đều rơi vào trường hợp volume <= 1.\n",
    "    2. Phân tích này cho thấy phần lớn các người chơi đều đặt với volume rất nhỏ. Chỉ có một số người chơi đặt ở volume cao là những người chơi chuyên nghiệp hoặc những giao dịch gian lận"
   ]
  },
  {
   "cell_type": "markdown",
   "metadata": {},
   "source": [
    "## Phân tích biến Symbol"
   ]
  },
  {
   "cell_type": "code",
   "execution_count": 22,
   "metadata": {},
   "outputs": [],
   "source": [
    "df_symbol = df_analyze.groupby(by=['Symbol'])['Type'].count().reset_index().sort_values(by=\"Type\",ascending=False).rename(columns={\"Type\":\"Count\",\"Symbol\":\"Currency\"}).head(8)"
   ]
  },
  {
   "cell_type": "code",
   "execution_count": 23,
   "metadata": {},
   "outputs": [
    {
     "data": {
      "image/png": "[encoded data removed]",
      "text/plain": [
       "<Figure size 1008x720 with 1 Axes>"
      ]
     },
     "metadata": {
      "needs_background": "light"
     },
     "output_type": "display_data"
    }
   ],
   "source": [
    "plt.figure(figsize=(14,10))\n",
    "sb.barplot(data=df_symbol,x=\"Currency\",y=\"Count\")\n",
    "plt.title(\"Số lượng các loại tiền được giao dịch\")\n",
    "plt.xticks(rotation=45)\n",
    "plt.show()"
   ]
  },
  {
   "cell_type": "code",
   "execution_count": 25,
   "metadata": {},
   "outputs": [],
   "source": [
    "df_crosstab = pd.crosstab(df_analyze.Symbol,df_analyze.Target).reset_index()\n",
    "df_crosstab['normal_percent'] = round((df_crosstab[0]/df_crosstab[0].sum())*100,2)\n",
    "df_crosstab['cheat_percent'] = round((df_crosstab[1]/df_crosstab[1].sum())*100,2)"
   ]
  },
  {
   "cell_type": "code",
   "execution_count": 31,
   "metadata": {},
   "outputs": [
    {
     "data": {
      "image/png": "[encoded data removed]",
      "text/plain": [
       "<Figure size 1440x1008 with 1 Axes>"
      ]
     },
     "metadata": {
      "needs_background": "light"
     },
     "output_type": "display_data"
    }
   ],
   "source": [
    "plt.figure(figsize=(20,14))\n",
    "sb.barplot(data=df_crosstab.sort_values(by=['normal_percent'],ascending=False).head(8),y=\"normal_percent\",x=\"Symbol\")\n",
    "plt.xticks(rotation=45)\n",
    "plt.title(\"Tỉ lệ % các căp tiền đang được chơi bình thường\")\n",
    "plt.show()"
   ]
  },
  {
   "cell_type": "code",
   "execution_count": 30,
   "metadata": {},
   "outputs": [
    {
     "data": {
      "image/png": "[encoded data removed]",
      "text/plain": [
       "<Figure size 1440x1008 with 1 Axes>"
      ]
     },
     "metadata": {
      "needs_background": "light"
     },
     "output_type": "display_data"
    }
   ],
   "source": [
    "plt.figure(figsize=(20,14))\n",
    "sb.barplot(data=df_crosstab.sort_values(by=['cheat_percent'],ascending=False).head(8),y=\"cheat_percent\",x=\"Symbol\")\n",
    "plt.xticks(rotation=45)\n",
    "plt.title(\"Tỉ lệ % các cặp tiền đã bị gian lận\")\n",
    "plt.show()"
   ]
  },
  {
   "cell_type": "markdown",
   "metadata": {},
   "source": [
    "### Phân tích biến Symbol\n",
    "    1. Các cặp tiền bị gian lận nhiều nhất ta thấy đều liên quan đến các loại tiền EUR, GBP, USD là những loại tiền được chơi nhiều nhất và có sự biến động lớn nhất. Dễ dàng kiếm lời nhất so với các loại tiền khác."
   ]
  },
  {
   "cell_type": "markdown",
   "metadata": {},
   "source": [
    "## Phân tích 2 biến Bonus và Balance"
   ]
  },
  {
   "cell_type": "code",
   "execution_count": 33,
   "metadata": {},
   "outputs": [
    {
     "data": {
      "text/plain": [
       "<matplotlib.axes._subplots.AxesSubplot at 0x21fe8395d08>"
      ]
     },
     "execution_count": 33,
     "metadata": {},
     "output_type": "execute_result"
    },
    {
     "data": {
      "image/png": "[encoded data removed]",
      "text/plain": [
       "<Figure size 432x288 with 1 Axes>"
      ]
     },
     "metadata": {
      "needs_background": "light"
     },
     "output_type": "display_data"
    }
   ],
   "source": [
    "sb.boxplot(df_analyze.Balance)"
   ]
  },
  {
   "cell_type": "code",
   "execution_count": 32,
   "metadata": {
    "scrolled": false
   },
   "outputs": [
    {
     "data": {
      "text/plain": [
       "<matplotlib.axes._subplots.AxesSubplot at 0x21fe82f1b48>"
      ]
     },
     "execution_count": 32,
     "metadata": {},
     "output_type": "execute_result"
    },
    {
     "data": {
      "image/png": "[encoded data removed]",
      "text/plain": [
       "<Figure size 432x288 with 1 Axes>"
      ]
     },
     "metadata": {
      "needs_background": "light"
     },
     "output_type": "display_data"
    }
   ],
   "source": [
    "sb.boxplot(df_analyze.Bonus)"
   ]
  },
  {
   "cell_type": "code",
   "execution_count": 10,
   "metadata": {},
   "outputs": [
    {
     "name": "stdout",
     "output_type": "stream",
     "text": [
      "Lower bonus : -715000.0 , Upper bonus : 1245000.0\n",
      "Lower balance : -1046275.5 , Upper balance : 1828024.5\n"
     ]
    }
   ],
   "source": [
    "lower,upper,df_now,df_index = pt.xem_ngoai_le(df_analyze,'Bonus')\n",
    "print(\"Lower bonus : {} , Upper bonus : {}\".format(lower,upper))\n",
    "lower,upper,df_now,df_index = pt.xem_ngoai_le(df_analyze,'Balance')\n",
    "print(\"Lower balance : {} , Upper balance : {}\".format(lower,upper))"
   ]
  },
  {
   "cell_type": "code",
   "execution_count": 6,
   "metadata": {},
   "outputs": [
    {
     "name": "stdout",
     "output_type": "stream",
     "text": [
      "          Balance     Bonus    Volume\n",
      "Balance  1.000000  0.584551  0.117000\n",
      "Bonus    0.584551  1.000000  0.228564\n",
      "Volume   0.117000  0.228564  1.000000\n"
     ]
    }
   ],
   "source": [
    "df_temp = df[['Balance','Bonus',\"Volume\"]]\n",
    "print(df_temp.corr())"
   ]
  },
  {
   "cell_type": "code",
   "execution_count": 8,
   "metadata": {},
   "outputs": [
    {
     "data": {
      "text/plain": [
       "<matplotlib.axes._subplots.AxesSubplot at 0x175d4ad8a08>"
      ]
     },
     "execution_count": 8,
     "metadata": {},
     "output_type": "execute_result"
    },
    {
     "data": {
      "image/png": "[encoded data removed]",
      "text/plain": [
       "<Figure size 432x288 with 1 Axes>"
      ]
     },
     "metadata": {
      "needs_background": "light"
     },
     "output_type": "display_data"
    }
   ],
   "source": [
    "sb.boxplot(x='Target',y='Balance',data=df_analyze,palette=\"Set3\")"
   ]
  },
  {
   "cell_type": "code",
   "execution_count": 9,
   "metadata": {},
   "outputs": [
    {
     "data": {
      "text/plain": [
       "<matplotlib.axes._subplots.AxesSubplot at 0x175d4ba1bc8>"
      ]
     },
     "execution_count": 9,
     "metadata": {},
     "output_type": "execute_result"
    },
    {
     "data": {
      "image/png": "[encoded data removed]",
      "text/plain": [
       "<Figure size 432x288 with 1 Axes>"
      ]
     },
     "metadata": {
      "needs_background": "light"
     },
     "output_type": "display_data"
    }
   ],
   "source": [
    "sb.boxplot(x='Target',y='Bonus',data=df_analyze,palette=\"Set3\")"
   ]
  },
  {
   "cell_type": "markdown",
   "metadata": {},
   "source": [
    "### Kết luận phân tích trên 2 biến Balance và Bonus\n",
    "    1. 2 Biến này không có liên quan đến biến Volume. Dường như không có sự liên quan giữa số lượng tiền nộp và tiền thưởng trong số lượng Volume mà các account sẽ đặt.\n",
    "    2. Quan sát 2 biến Bonus và Balance trên từng class thì ta thấy 2 biến trên đều nằm trong khoảng trung bình của 2 biến trên. Điều này không lạ, trong 1 sàn giao dịch forex thì số lượng đặt volume thường được giới hạn trong 1 khoảng nhất định theo từng loại tiền. VD: với EURJPY thì sàn giao dịch sẽ giới hạn chỉ được giao dịch với VOLUME 30 trong cùng 1 thời điểm. Vì vậy, các tất những giao dịch gian lận sẽ chỉ giao dịch trong 1 khoảng nhỏ vừa đủ để nhanh lấy được tiền lời từ giao dịch. Nếu các account gian lận nộp quá nhiều tiền và tiền thưởng thì sẽ rất lâu để có thể lấy được tiền lời.\n",
    "    3. Không thể loại bỏ các ngoại lệ ở 2 biến trên. Chúng ta sẽ xem xét cách biến đổi sau."
   ]
  },
  {
   "cell_type": "markdown",
   "metadata": {
    "id": "yPznRaoHM3fc"
   },
   "source": [
    "# Xem xét độ giống nhau của những tài khoản gian lận và không gian lận\n",
    "    1. Thông thường các giao dịch gian lận thông thường sẽ rất giống nhau ở một số yếu tố bao gồm loại tiền, volume, balance, bonus. Vì vậy distance có thể xem xét là một trong những yếu tố rất quan trọng để xem xét giao dịch ở một tài khoảng có gian lận hay không."
   ]
  },
  {
   "cell_type": "markdown",
   "metadata": {},
   "source": [
    "# Xem xét các giao dịch trên mức độ từng account"
   ]
  },
  {
   "cell_type": "code",
   "execution_count": 8,
   "metadata": {
    "executionInfo": {
     "elapsed": 2841,
     "status": "ok",
     "timestamp": 1605942310671,
     "user": {
      "displayName": "Huy Nguyen",
      "photoUrl": "https://lh3.googleusercontent.com/a-/AOh14GjFoiqvt8rPwmobB1-5sT-zHz-Jn_LpiYRAQgpD=s64",
      "userId": "13787552803651349735"
     },
     "user_tz": -420
    },
    "id": "HuHMZ0iSM577"
   },
   "outputs": [],
   "source": [
    "df_distance = df.copy()"
   ]
  },
  {
   "cell_type": "code",
   "execution_count": 9,
   "metadata": {
    "executionInfo": {
     "elapsed": 1638,
     "status": "ok",
     "timestamp": 1605942310672,
     "user": {
      "displayName": "Huy Nguyen",
      "photoUrl": "https://lh3.googleusercontent.com/a-/AOh14GjFoiqvt8rPwmobB1-5sT-zHz-Jn_LpiYRAQgpD=s64",
      "userId": "13787552803651349735"
     },
     "user_tz": -420
    },
    "id": "YW86cSvyNDg7"
   },
   "outputs": [],
   "source": [
    "df_distance = df_distance.merge(df_distance.groupby(by=['Account'])['Type'].count().reset_index(),how=\"inner\",left_on=[\"Account\"],right_on=[\"Account\"],validate=\"many_to_one\",copy=False)\n",
    "df_distance.rename(columns={\"Type_x\":\"Type\",\"Type_y\":\"Num_of_order\"},inplace=True)"
   ]
  },
  {
   "cell_type": "code",
   "execution_count": 10,
   "metadata": {
    "executionInfo": {
     "elapsed": 1748,
     "status": "ok",
     "timestamp": 1605942311794,
     "user": {
      "displayName": "Huy Nguyen",
      "photoUrl": "https://lh3.googleusercontent.com/a-/AOh14GjFoiqvt8rPwmobB1-5sT-zHz-Jn_LpiYRAQgpD=s64",
      "userId": "13787552803651349735"
     },
     "user_tz": -420
    },
    "id": "LkDe45XlNHHk"
   },
   "outputs": [],
   "source": [
    "df_distance.Time = pd.to_datetime(df_distance.Time)\n",
    "now = datetime.now()\n",
    "df_distance.Time = (now - df_distance.Time).dt.total_seconds()"
   ]
  },
  {
   "cell_type": "code",
   "execution_count": 11,
   "metadata": {
    "executionInfo": {
     "elapsed": 2718,
     "status": "ok",
     "timestamp": 1605942315194,
     "user": {
      "displayName": "Huy Nguyen",
      "photoUrl": "https://lh3.googleusercontent.com/a-/AOh14GjFoiqvt8rPwmobB1-5sT-zHz-Jn_LpiYRAQgpD=s64",
      "userId": "13787552803651349735"
     },
     "user_tz": -420
    },
    "id": "wdSX4iscNIN3"
   },
   "outputs": [],
   "source": [
    "df_distance = df_distance.merge(df_distance.groupby(by=['Account',\"Type\"])['Time'].median().reset_index(),how=\"inner\",left_on=[\"Account\",\"Type\"],right_on=[\"Account\",\"Type\"],validate=\"many_to_one\",copy=False)\n",
    "df_distance.rename(columns={\"Time_x\":\"Time\",\"Time_y\":\"Time_median\"},inplace=True)"
   ]
  },
  {
   "cell_type": "code",
   "execution_count": 12,
   "metadata": {
    "executionInfo": {
     "elapsed": 1856,
     "status": "ok",
     "timestamp": 1605942315645,
     "user": {
      "displayName": "Huy Nguyen",
      "photoUrl": "https://lh3.googleusercontent.com/a-/AOh14GjFoiqvt8rPwmobB1-5sT-zHz-Jn_LpiYRAQgpD=s64",
      "userId": "13787552803651349735"
     },
     "user_tz": -420
    },
    "id": "riJx2fAPNJOV"
   },
   "outputs": [],
   "source": [
    "df_distance = df_distance.merge(df_distance.groupby(by=['Account'])['Volume'].sum().reset_index(),how=\"inner\",left_on=[\"Account\"],right_on=[\"Account\"],validate=\"many_to_one\",copy=False)\n",
    "df_distance.rename(columns={\"Volume_x\":\"Volume\",\"Volume_y\":\"Sum_of_vol\"},inplace=True)"
   ]
  },
  {
   "cell_type": "code",
   "execution_count": 13,
   "metadata": {
    "executionInfo": {
     "elapsed": 2539,
     "status": "ok",
     "timestamp": 1605942319401,
     "user": {
      "displayName": "Huy Nguyen",
      "photoUrl": "https://lh3.googleusercontent.com/a-/AOh14GjFoiqvt8rPwmobB1-5sT-zHz-Jn_LpiYRAQgpD=s64",
      "userId": "13787552803651349735"
     },
     "user_tz": -420
    },
    "id": "fShExETMNMOG"
   },
   "outputs": [],
   "source": [
    "df_distance = df_distance.merge(df_distance.groupby(by=['Account',\"Type\",\"Symbol\"])['Volume'].sum().reset_index(),how=\"inner\",left_on=['Account',\"Type\",\"Symbol\"],right_on=['Account',\"Type\",\"Symbol\"],validate=\"many_to_one\",copy=False)\n",
    "df_distance.rename(columns={\"Volume_x\":\"Volume\",\"Volume_y\":\"Sum_of_vol_type\"},inplace=True)"
   ]
  },
  {
   "cell_type": "code",
   "execution_count": 14,
   "metadata": {
    "executionInfo": {
     "elapsed": 3062,
     "status": "ok",
     "timestamp": 1605942320946,
     "user": {
      "displayName": "Huy Nguyen",
      "photoUrl": "https://lh3.googleusercontent.com/a-/AOh14GjFoiqvt8rPwmobB1-5sT-zHz-Jn_LpiYRAQgpD=s64",
      "userId": "13787552803651349735"
     },
     "user_tz": -420
    },
    "id": "Jd8P8f4DNNGU"
   },
   "outputs": [],
   "source": [
    "df_distance = df_distance.merge(df_distance.groupby(by=['Account'])['Symbol'].unique().map(lambda x: len(x)).reset_index(),how=\"inner\",left_on=['Account'],right_on=['Account'],validate=\"many_to_one\",copy=False)\n",
    "df_distance.rename(columns={\"Symbol_x\":\"Symbol\",\"Symbol_y\":\"Num_of_sym\"},inplace=True)"
   ]
  },
  {
   "cell_type": "code",
   "execution_count": 15,
   "metadata": {},
   "outputs": [],
   "source": [
    "df_distance = df_distance.merge(df_distance.groupby(by=['Account','Type'])['Volume'].median().reset_index(),how=\"inner\",left_on=[\"Account\",'Type'],right_on=[\"Account\",'Type'],validate=\"many_to_one\",copy=False)\n",
    "df_distance.rename(columns={\"Volume_x\":\"Volume\",\"Volume_y\":\"Volume_median\"},inplace=True)"
   ]
  },
  {
   "cell_type": "code",
   "execution_count": 16,
   "metadata": {
    "executionInfo": {
     "elapsed": 2147,
     "status": "ok",
     "timestamp": 1605942323694,
     "user": {
      "displayName": "Huy Nguyen",
      "photoUrl": "https://lh3.googleusercontent.com/a-/AOh14GjFoiqvt8rPwmobB1-5sT-zHz-Jn_LpiYRAQgpD=s64",
      "userId": "13787552803651349735"
     },
     "user_tz": -420
    },
    "id": "dyAnoAhLNPdk"
   },
   "outputs": [],
   "source": [
    "df_distance.reset_index(drop=True,inplace=True)"
   ]
  },
  {
   "cell_type": "code",
   "execution_count": 17,
   "metadata": {},
   "outputs": [
    {
     "data": {
      "text/html": [
       "<div>\n",
       "<style scoped>\n",
       "    .dataframe tbody tr th:only-of-type {\n",
       "        vertical-align: middle;\n",
       "    }\n",
       "\n",
       "    .dataframe tbody tr th {\n",
       "        vertical-align: top;\n",
       "    }\n",
       "\n",
       "    .dataframe thead th {\n",
       "        text-align: right;\n",
       "    }\n",
       "</style>\n",
       "<table border=\"1\" class=\"dataframe\">\n",
       "  <thead>\n",
       "    <tr style=\"text-align: right;\">\n",
       "      <th></th>\n",
       "      <th>Account</th>\n",
       "      <th>Ticket</th>\n",
       "      <th>Time</th>\n",
       "      <th>Type</th>\n",
       "      <th>Volume</th>\n",
       "      <th>Symbol</th>\n",
       "      <th>Open Price</th>\n",
       "      <th>S / L</th>\n",
       "      <th>T / P</th>\n",
       "      <th>Close Time</th>\n",
       "      <th>...</th>\n",
       "      <th>Profit</th>\n",
       "      <th>Balance</th>\n",
       "      <th>Bonus</th>\n",
       "      <th>Target</th>\n",
       "      <th>Num_of_order</th>\n",
       "      <th>Time_median</th>\n",
       "      <th>Sum_of_vol</th>\n",
       "      <th>Sum_of_vol_type</th>\n",
       "      <th>Num_of_sym</th>\n",
       "      <th>Volume_median</th>\n",
       "    </tr>\n",
       "  </thead>\n",
       "  <tbody>\n",
       "    <tr>\n",
       "      <th>0</th>\n",
       "      <td>5353407</td>\n",
       "      <td>61928436.0</td>\n",
       "      <td>1.241624e+06</td>\n",
       "      <td>buy</td>\n",
       "      <td>3.0</td>\n",
       "      <td>usdjpy</td>\n",
       "      <td>103.460</td>\n",
       "      <td>103.3</td>\n",
       "      <td>0.0</td>\n",
       "      <td>2020.11.09 14:00:41</td>\n",
       "      <td>...</td>\n",
       "      <td>216 300</td>\n",
       "      <td>500000.0</td>\n",
       "      <td>1000000.0</td>\n",
       "      <td>1</td>\n",
       "      <td>11</td>\n",
       "      <td>1.241624e+06</td>\n",
       "      <td>41.0</td>\n",
       "      <td>3.0</td>\n",
       "      <td>1</td>\n",
       "      <td>3.0</td>\n",
       "    </tr>\n",
       "    <tr>\n",
       "      <th>1</th>\n",
       "      <td>5353407</td>\n",
       "      <td>61953817.0</td>\n",
       "      <td>1.217519e+06</td>\n",
       "      <td>sell</td>\n",
       "      <td>4.0</td>\n",
       "      <td>usdjpy</td>\n",
       "      <td>104.179</td>\n",
       "      <td>0.0</td>\n",
       "      <td>0.0</td>\n",
       "      <td>2020.11.09 16:49:32</td>\n",
       "      <td>...</td>\n",
       "      <td>-422 400</td>\n",
       "      <td>500000.0</td>\n",
       "      <td>1000000.0</td>\n",
       "      <td>1</td>\n",
       "      <td>11</td>\n",
       "      <td>1.214131e+06</td>\n",
       "      <td>41.0</td>\n",
       "      <td>38.0</td>\n",
       "      <td>1</td>\n",
       "      <td>4.0</td>\n",
       "    </tr>\n",
       "    <tr>\n",
       "      <th>2</th>\n",
       "      <td>5353407</td>\n",
       "      <td>61966332.0</td>\n",
       "      <td>1.214140e+06</td>\n",
       "      <td>sell</td>\n",
       "      <td>4.0</td>\n",
       "      <td>usdjpy</td>\n",
       "      <td>104.860</td>\n",
       "      <td>0.0</td>\n",
       "      <td>0.0</td>\n",
       "      <td>2020.11.09 16:53:44</td>\n",
       "      <td>...</td>\n",
       "      <td>-160 400</td>\n",
       "      <td>500000.0</td>\n",
       "      <td>1000000.0</td>\n",
       "      <td>1</td>\n",
       "      <td>11</td>\n",
       "      <td>1.214131e+06</td>\n",
       "      <td>41.0</td>\n",
       "      <td>38.0</td>\n",
       "      <td>1</td>\n",
       "      <td>4.0</td>\n",
       "    </tr>\n",
       "    <tr>\n",
       "      <th>3</th>\n",
       "      <td>5353407</td>\n",
       "      <td>61966335.0</td>\n",
       "      <td>1.214137e+06</td>\n",
       "      <td>sell</td>\n",
       "      <td>4.0</td>\n",
       "      <td>usdjpy</td>\n",
       "      <td>104.859</td>\n",
       "      <td>0.0</td>\n",
       "      <td>0.0</td>\n",
       "      <td>2020.11.09 16:53:42</td>\n",
       "      <td>...</td>\n",
       "      <td>-162 800</td>\n",
       "      <td>500000.0</td>\n",
       "      <td>1000000.0</td>\n",
       "      <td>1</td>\n",
       "      <td>11</td>\n",
       "      <td>1.214131e+06</td>\n",
       "      <td>41.0</td>\n",
       "      <td>38.0</td>\n",
       "      <td>1</td>\n",
       "      <td>4.0</td>\n",
       "    </tr>\n",
       "    <tr>\n",
       "      <th>4</th>\n",
       "      <td>5353407</td>\n",
       "      <td>61966341.0</td>\n",
       "      <td>1.214135e+06</td>\n",
       "      <td>sell</td>\n",
       "      <td>4.0</td>\n",
       "      <td>usdjpy</td>\n",
       "      <td>104.854</td>\n",
       "      <td>0.0</td>\n",
       "      <td>0.0</td>\n",
       "      <td>2020.11.09 16:53:15</td>\n",
       "      <td>...</td>\n",
       "      <td>-160 400</td>\n",
       "      <td>500000.0</td>\n",
       "      <td>1000000.0</td>\n",
       "      <td>1</td>\n",
       "      <td>11</td>\n",
       "      <td>1.214131e+06</td>\n",
       "      <td>41.0</td>\n",
       "      <td>38.0</td>\n",
       "      <td>1</td>\n",
       "      <td>4.0</td>\n",
       "    </tr>\n",
       "  </tbody>\n",
       "</table>\n",
       "<p>5 rows × 24 columns</p>\n",
       "</div>"
      ],
      "text/plain": [
       "   Account      Ticket          Time  Type  Volume  Symbol  Open Price  S / L  \\\n",
       "0  5353407  61928436.0  1.241624e+06   buy     3.0  usdjpy     103.460  103.3   \n",
       "1  5353407  61953817.0  1.217519e+06  sell     4.0  usdjpy     104.179    0.0   \n",
       "2  5353407  61966332.0  1.214140e+06  sell     4.0  usdjpy     104.860    0.0   \n",
       "3  5353407  61966335.0  1.214137e+06  sell     4.0  usdjpy     104.859    0.0   \n",
       "4  5353407  61966341.0  1.214135e+06  sell     4.0  usdjpy     104.854    0.0   \n",
       "\n",
       "   T / P           Close Time  ...    Profit   Balance      Bonus Target  \\\n",
       "0    0.0  2020.11.09 14:00:41  ...   216 300  500000.0  1000000.0      1   \n",
       "1    0.0  2020.11.09 16:49:32  ...  -422 400  500000.0  1000000.0      1   \n",
       "2    0.0  2020.11.09 16:53:44  ...  -160 400  500000.0  1000000.0      1   \n",
       "3    0.0  2020.11.09 16:53:42  ...  -162 800  500000.0  1000000.0      1   \n",
       "4    0.0  2020.11.09 16:53:15  ...  -160 400  500000.0  1000000.0      1   \n",
       "\n",
       "  Num_of_order   Time_median  Sum_of_vol  Sum_of_vol_type  Num_of_sym  \\\n",
       "0           11  1.241624e+06        41.0              3.0           1   \n",
       "1           11  1.214131e+06        41.0             38.0           1   \n",
       "2           11  1.214131e+06        41.0             38.0           1   \n",
       "3           11  1.214131e+06        41.0             38.0           1   \n",
       "4           11  1.214131e+06        41.0             38.0           1   \n",
       "\n",
       "   Volume_median  \n",
       "0            3.0  \n",
       "1            4.0  \n",
       "2            4.0  \n",
       "3            4.0  \n",
       "4            4.0  \n",
       "\n",
       "[5 rows x 24 columns]"
      ]
     },
     "execution_count": 17,
     "metadata": {},
     "output_type": "execute_result"
    }
   ],
   "source": [
    "df_distance.head()"
   ]
  },
  {
   "cell_type": "code",
   "execution_count": 18,
   "metadata": {},
   "outputs": [],
   "source": [
    "df_analyze = df_distance[['Target','Num_of_order','Sum_of_vol','Sum_of_vol_type','Num_of_sym','Volume_median','Account']]"
   ]
  },
  {
   "cell_type": "markdown",
   "metadata": {},
   "source": [
    "## Phân tích biến Num_of_order số lượng giao dịch trong 1 account được giao dịch trong 1 thời điểm"
   ]
  },
  {
   "cell_type": "code",
   "execution_count": 19,
   "metadata": {},
   "outputs": [
    {
     "data": {
      "text/plain": [
       "<matplotlib.axes._subplots.AxesSubplot at 0x1d147cf4520>"
      ]
     },
     "execution_count": 19,
     "metadata": {},
     "output_type": "execute_result"
    },
    {
     "data": {
      "image/png": "[encoded data removed]",
      "text/plain": [
       "<Figure size 432x288 with 1 Axes>"
      ]
     },
     "metadata": {
      "needs_background": "light"
     },
     "output_type": "display_data"
    }
   ],
   "source": [
    "sb.boxplot(df_analyze.Num_of_order)"
   ]
  },
  {
   "cell_type": "code",
   "execution_count": 20,
   "metadata": {},
   "outputs": [
    {
     "name": "stdout",
     "output_type": "stream",
     "text": [
      "Lower Num_of_order : -30.0 , Upper Num_of_order : 66.0\n"
     ]
    }
   ],
   "source": [
    "lower,upper,df_now,df_index = pt.xem_ngoai_le(df_analyze,'Num_of_order')\n",
    "print(\"Lower Num_of_order : {} , Upper Num_of_order : {}\".format(lower,upper))"
   ]
  },
  {
   "cell_type": "code",
   "execution_count": 37,
   "metadata": {},
   "outputs": [],
   "source": [
    "df_analyze = df_analyze[df_analyze.Num_of_order<=66]"
   ]
  },
  {
   "cell_type": "code",
   "execution_count": 38,
   "metadata": {},
   "outputs": [
    {
     "data": {
      "text/plain": [
       "count    3459.000000\n",
       "mean        9.746459\n",
       "std         6.095506\n",
       "min         1.000000\n",
       "25%         5.000000\n",
       "50%         9.000000\n",
       "75%        14.000000\n",
       "max        31.000000\n",
       "Name: Num_of_order, dtype: float64"
      ]
     },
     "execution_count": 38,
     "metadata": {},
     "output_type": "execute_result"
    }
   ],
   "source": [
    "df_analyze[df_analyze.Target==1].Num_of_order.describe()"
   ]
  },
  {
   "cell_type": "code",
   "execution_count": 39,
   "metadata": {},
   "outputs": [
    {
     "data": {
      "text/plain": [
       "count    68823.000000\n",
       "mean        14.567586\n",
       "std         11.897136\n",
       "min          1.000000\n",
       "25%          5.000000\n",
       "50%         11.000000\n",
       "75%         23.000000\n",
       "max         66.000000\n",
       "Name: Num_of_order, dtype: float64"
      ]
     },
     "execution_count": 39,
     "metadata": {},
     "output_type": "execute_result"
    }
   ],
   "source": [
    "df_analyze[df_analyze.Target==0].Num_of_order.describe()"
   ]
  },
  {
   "cell_type": "code",
   "execution_count": 40,
   "metadata": {},
   "outputs": [
    {
     "data": {
      "text/plain": [
       "<matplotlib.axes._subplots.AxesSubplot at 0x20107185cc8>"
      ]
     },
     "execution_count": 40,
     "metadata": {},
     "output_type": "execute_result"
    },
    {
     "data": {
      "image/png": "[encoded data removed]",
      "text/plain": [
       "<Figure size 432x288 with 1 Axes>"
      ]
     },
     "metadata": {
      "needs_background": "light"
     },
     "output_type": "display_data"
    }
   ],
   "source": [
    "sb.boxplot(df_analyze.Num_of_order)"
   ]
  },
  {
   "cell_type": "code",
   "execution_count": 42,
   "metadata": {
    "scrolled": true
   },
   "outputs": [
    {
     "data": {
      "text/plain": [
       "<matplotlib.axes._subplots.AxesSubplot at 0x201070434c8>"
      ]
     },
     "execution_count": 42,
     "metadata": {},
     "output_type": "execute_result"
    },
    {
     "data": {
      "image/png": "[encoded data removed]",
      "text/plain": [
       "<Figure size 432x288 with 1 Axes>"
      ]
     },
     "metadata": {
      "needs_background": "light"
     },
     "output_type": "display_data"
    }
   ],
   "source": [
    "sb.distplot(df_analyze.Num_of_order)"
   ]
  },
  {
   "cell_type": "code",
   "execution_count": 43,
   "metadata": {},
   "outputs": [
    {
     "data": {
      "text/plain": [
       "<matplotlib.axes._subplots.AxesSubplot at 0x20107ecaa88>"
      ]
     },
     "execution_count": 43,
     "metadata": {},
     "output_type": "execute_result"
    },
    {
     "data": {
      "image/png": "[encoded data removed]",
      "text/plain": [
       "<Figure size 432x288 with 1 Axes>"
      ]
     },
     "metadata": {
      "needs_background": "light"
     },
     "output_type": "display_data"
    }
   ],
   "source": [
    "sb.boxplot(x='Target',y='Num_of_order',data=df_analyze,palette=\"Set3\")"
   ]
  },
  {
   "cell_type": "code",
   "execution_count": 44,
   "metadata": {},
   "outputs": [
    {
     "name": "stdout",
     "output_type": "stream",
     "text": [
      "                 sum_sq       df           F         PR(>F)\n",
      "C(Target)  7.655108e+04      1.0  560.617377  1.826728e-123\n",
      "Residual   9.869676e+06  72280.0         NaN            NaN\n"
     ]
    }
   ],
   "source": [
    "st = \"Num_of_order\" + \"~ C(\" + \"Target\" + \")\"\n",
    "model =ols(st,data=df_analyze[['Num_of_order','Target']]).fit()\n",
    "anova_table = sm.stats.anova_lm(model,typ=2)\n",
    "print(anova_table)"
   ]
  },
  {
   "cell_type": "markdown",
   "metadata": {},
   "source": [
    "### Kết luận về biến Num_of_order\n",
    "    1. Chúng ta sẽ loại bỏ tất cả các ngoại lệ ở biến này. Những người chơi với số lượng rất nhiều giao dịch trong 1 lần gần như không có khả năng gian lận và chúng giao dịch ở VOLUME rất nhỏ có thể gây ảnh hưởng đến mô hình.\n",
    "    2. Ta thấy được các tài khoản gian lận thường mở ít hơn so với các tài khoản không gian lận. Khối lượng mở sẽ lớn hơn để đảm bảo chắc chắn có lời."
   ]
  },
  {
   "cell_type": "markdown",
   "metadata": {},
   "source": [
    "## Phân tích biến Sum_of_vol số lượng giao dịch trong 1 account được giao dịch trong 1 thời điểm"
   ]
  },
  {
   "cell_type": "code",
   "execution_count": 21,
   "metadata": {},
   "outputs": [
    {
     "data": {
      "text/plain": [
       "<matplotlib.axes._subplots.AxesSubplot at 0x1d147d6e4f0>"
      ]
     },
     "execution_count": 21,
     "metadata": {},
     "output_type": "execute_result"
    },
    {
     "data": {
      "image/png": "[encoded data removed]",
      "text/plain": [
       "<Figure size 432x288 with 1 Axes>"
      ]
     },
     "metadata": {
      "needs_background": "light"
     },
     "output_type": "display_data"
    }
   ],
   "source": [
    "sb.boxplot(df_analyze.Sum_of_vol)"
   ]
  },
  {
   "cell_type": "code",
   "execution_count": 46,
   "metadata": {},
   "outputs": [
    {
     "data": {
      "text/plain": [
       "count    72282.000000\n",
       "mean         5.808771\n",
       "std         15.542490\n",
       "min          0.010000\n",
       "25%          0.270000\n",
       "50%          0.950000\n",
       "75%          4.360000\n",
       "max        313.000000\n",
       "Name: Sum_of_vol, dtype: float64"
      ]
     },
     "execution_count": 46,
     "metadata": {},
     "output_type": "execute_result"
    }
   ],
   "source": [
    "df_analyze.Sum_of_vol.describe()"
   ]
  },
  {
   "cell_type": "code",
   "execution_count": 47,
   "metadata": {},
   "outputs": [
    {
     "data": {
      "text/plain": [
       "count    3459.000000\n",
       "mean       18.270705\n",
       "std         8.733965\n",
       "min         2.000000\n",
       "25%        13.000000\n",
       "50%        18.000000\n",
       "75%        20.000000\n",
       "max        88.000000\n",
       "Name: Sum_of_vol, dtype: float64"
      ]
     },
     "execution_count": 47,
     "metadata": {},
     "output_type": "execute_result"
    }
   ],
   "source": [
    "df_analyze[df_analyze.Target==1].Sum_of_vol.describe()"
   ]
  },
  {
   "cell_type": "code",
   "execution_count": 48,
   "metadata": {},
   "outputs": [
    {
     "data": {
      "text/plain": [
       "count    68823.000000\n",
       "mean         5.182442\n",
       "std         15.546053\n",
       "min          0.010000\n",
       "25%          0.260000\n",
       "50%          0.840000\n",
       "75%          3.400000\n",
       "max        313.000000\n",
       "Name: Sum_of_vol, dtype: float64"
      ]
     },
     "execution_count": 48,
     "metadata": {},
     "output_type": "execute_result"
    }
   ],
   "source": [
    "df_analyze[df_analyze.Target==0].Sum_of_vol.describe()"
   ]
  },
  {
   "cell_type": "code",
   "execution_count": 49,
   "metadata": {},
   "outputs": [
    {
     "data": {
      "text/plain": [
       "<matplotlib.axes._subplots.AxesSubplot at 0x20108fb8148>"
      ]
     },
     "execution_count": 49,
     "metadata": {},
     "output_type": "execute_result"
    },
    {
     "data": {
      "image/png": "[encoded data removed]",
      "text/plain": [
       "<Figure size 432x288 with 1 Axes>"
      ]
     },
     "metadata": {
      "needs_background": "light"
     },
     "output_type": "display_data"
    }
   ],
   "source": [
    "sb.boxplot(x='Target',y='Sum_of_vol',data=df_analyze,palette=\"Set3\")"
   ]
  },
  {
   "cell_type": "code",
   "execution_count": 50,
   "metadata": {},
   "outputs": [
    {
     "name": "stdout",
     "output_type": "stream",
     "text": [
      "                 sum_sq       df            F  PR(>F)\n",
      "C(Target)  5.641805e+05      1.0  2413.432165     0.0\n",
      "Residual   1.689667e+07  72280.0          NaN     NaN\n"
     ]
    }
   ],
   "source": [
    "st = \"Sum_of_vol\" + \"~ C(\" + \"Target\" + \")\"\n",
    "model =ols(st,data=df_analyze[['Sum_of_vol','Target']]).fit()\n",
    "anova_table = sm.stats.anova_lm(model,typ=2)\n",
    "print(anova_table)"
   ]
  },
  {
   "cell_type": "markdown",
   "metadata": {},
   "source": [
    "### Kết luận phân tích Sum_of_vol\n",
    "    1. Tổng số Volume được giao dịch trong các tài khoảng gian lận thường rất cao so với so với các tài khoản thường với Q1 và Q3 nằm trong khoảng từ 13 đến 20. Có ngoại lệ max là 88 là những tài khoản gian lận ở các cặp tiền không thường gặp. Và rất ít gặp.\n",
    "    2. Chúng ta không thể loại bỏ ngoại lệ ở biến này bởi vì các ngoại lệ này chính là các tài khoản gian lận."
   ]
  },
  {
   "cell_type": "markdown",
   "metadata": {},
   "source": [
    "## Phân tích biến Num_of_sym số loại tiền trong 1 account được giao dịch trong 1 thời điểm"
   ]
  },
  {
   "cell_type": "code",
   "execution_count": 22,
   "metadata": {
    "scrolled": true
   },
   "outputs": [
    {
     "data": {
      "text/plain": [
       "<matplotlib.axes._subplots.AxesSubplot at 0x1d148848940>"
      ]
     },
     "execution_count": 22,
     "metadata": {},
     "output_type": "execute_result"
    },
    {
     "data": {
      "image/png": "[encoded data removed]",
      "text/plain": [
       "<Figure size 432x288 with 1 Axes>"
      ]
     },
     "metadata": {
      "needs_background": "light"
     },
     "output_type": "display_data"
    }
   ],
   "source": [
    "sb.boxplot(df_analyze.Num_of_sym)"
   ]
  },
  {
   "cell_type": "code",
   "execution_count": 19,
   "metadata": {},
   "outputs": [
    {
     "data": {
      "text/plain": [
       "count    88140.000000\n",
       "mean         2.319662\n",
       "std          2.168119\n",
       "min          1.000000\n",
       "25%          1.000000\n",
       "50%          2.000000\n",
       "75%          3.000000\n",
       "max         24.000000\n",
       "Name: Num_of_sym, dtype: float64"
      ]
     },
     "execution_count": 19,
     "metadata": {},
     "output_type": "execute_result"
    }
   ],
   "source": [
    "df_analyze.Num_of_sym.describe()"
   ]
  },
  {
   "cell_type": "code",
   "execution_count": 23,
   "metadata": {},
   "outputs": [
    {
     "name": "stdout",
     "output_type": "stream",
     "text": [
      "Lower Num_of_sym : -2.0 , Upper Num_of_sym : 6.0\n"
     ]
    }
   ],
   "source": [
    "lower,upper,df_now,df_index = pt.xem_ngoai_le(df_analyze,'Num_of_sym')\n",
    "print(\"Lower Num_of_sym : {} , Upper Num_of_sym : {}\".format(lower,upper))"
   ]
  },
  {
   "cell_type": "code",
   "execution_count": 21,
   "metadata": {},
   "outputs": [
    {
     "data": {
      "text/plain": [
       "count    3459.000000\n",
       "mean        1.943336\n",
       "std         1.356485\n",
       "min         1.000000\n",
       "25%         1.000000\n",
       "50%         1.000000\n",
       "75%         2.000000\n",
       "max         8.000000\n",
       "Name: Num_of_sym, dtype: float64"
      ]
     },
     "execution_count": 21,
     "metadata": {},
     "output_type": "execute_result"
    }
   ],
   "source": [
    "df_analyze[df_analyze.Target==1].Num_of_sym.describe()"
   ]
  },
  {
   "cell_type": "code",
   "execution_count": 22,
   "metadata": {},
   "outputs": [
    {
     "data": {
      "text/plain": [
       "count    84681.000000\n",
       "mean         2.335034\n",
       "std          2.193535\n",
       "min          1.000000\n",
       "25%          1.000000\n",
       "50%          2.000000\n",
       "75%          3.000000\n",
       "max         24.000000\n",
       "Name: Num_of_sym, dtype: float64"
      ]
     },
     "execution_count": 22,
     "metadata": {},
     "output_type": "execute_result"
    }
   ],
   "source": [
    "df_analyze[df_analyze.Target==0].Num_of_sym.describe()"
   ]
  },
  {
   "cell_type": "code",
   "execution_count": 24,
   "metadata": {},
   "outputs": [
    {
     "data": {
      "text/plain": [
       "<matplotlib.axes._subplots.AxesSubplot at 0x1d1488a7be0>"
      ]
     },
     "execution_count": 24,
     "metadata": {},
     "output_type": "execute_result"
    },
    {
     "data": {
      "image/png": "[encoded data removed]",
      "text/plain": [
       "<Figure size 432x288 with 1 Axes>"
      ]
     },
     "metadata": {
      "needs_background": "light"
     },
     "output_type": "display_data"
    }
   ],
   "source": [
    "sb.boxplot(x='Target',y='Num_of_sym',data=df_analyze,palette=\"Set3\")"
   ]
  },
  {
   "cell_type": "code",
   "execution_count": 34,
   "metadata": {},
   "outputs": [
    {
     "name": "stdout",
     "output_type": "stream",
     "text": [
      "                  sum_sq       df           F        PR(>F)\n",
      "C(Target)     509.876897      1.0  108.599784  2.054726e-25\n",
      "Residual   413808.649028  88138.0         NaN           NaN\n"
     ]
    }
   ],
   "source": [
    "st = \"Num_of_sym\" + \"~ C(\" + \"Target\" + \")\"\n",
    "model =ols(st,data=df_analyze[['Num_of_sym','Target']]).fit()\n",
    "anova_table = sm.stats.anova_lm(model,typ=2)\n",
    "print(anova_table)"
   ]
  },
  {
   "cell_type": "markdown",
   "metadata": {},
   "source": [
    "## Kết luận về biến Num_of_sym\n",
    "    1. Chúng ta sẽ loại bỏ ngoại lệ ở biến này sau khi ở cả 2 class. Phần lớn là những giao dịch không có gian lận, ở tài khoản gian lận thì rất khó phân biệt được gian lận nếu không được xem xét qua một nhân viên chuyên nghiệp."
   ]
  },
  {
   "cell_type": "markdown",
   "metadata": {},
   "source": [
    "## Phân tích biến Volume_median trung vị VOLUME trong 1 account được giao dịch trong 1 thời điểm"
   ]
  },
  {
   "cell_type": "code",
   "execution_count": 25,
   "metadata": {},
   "outputs": [
    {
     "data": {
      "text/plain": [
       "<matplotlib.axes._subplots.AxesSubplot at 0x1d14c06fbb0>"
      ]
     },
     "execution_count": 25,
     "metadata": {},
     "output_type": "execute_result"
    },
    {
     "data": {
      "image/png": "[encoded data removed]",
      "text/plain": [
       "<Figure size 432x288 with 1 Axes>"
      ]
     },
     "metadata": {
      "needs_background": "light"
     },
     "output_type": "display_data"
    }
   ],
   "source": [
    "sb.boxplot(df_analyze.Volume_median)"
   ]
  },
  {
   "cell_type": "code",
   "execution_count": 26,
   "metadata": {},
   "outputs": [
    {
     "name": "stdout",
     "output_type": "stream",
     "text": [
      "Lower Volume_median : -0.275 , Upper Volume_median : 0.48500000000000004\n"
     ]
    }
   ],
   "source": [
    "lower,upper,df_now,df_index = pt.xem_ngoai_le(df_analyze,'Volume_median')\n",
    "print(\"Lower Volume_median : {} , Upper Volume_median : {}\".format(lower,upper))"
   ]
  },
  {
   "cell_type": "code",
   "execution_count": 37,
   "metadata": {},
   "outputs": [
    {
     "data": {
      "text/plain": [
       "count    3459.000000\n",
       "mean        3.252333\n",
       "std         4.419163\n",
       "min         0.050000\n",
       "25%         1.000000\n",
       "50%         2.000000\n",
       "75%         4.000000\n",
       "max        82.000000\n",
       "Name: Volume_median, dtype: float64"
      ]
     },
     "execution_count": 37,
     "metadata": {},
     "output_type": "execute_result"
    }
   ],
   "source": [
    "df_analyze[df_analyze.Target==1].Volume_median.describe()"
   ]
  },
  {
   "cell_type": "code",
   "execution_count": 38,
   "metadata": {},
   "outputs": [
    {
     "data": {
      "text/plain": [
       "count    84681.000000\n",
       "mean         0.409540\n",
       "std          1.592885\n",
       "min          0.010000\n",
       "25%          0.010000\n",
       "50%          0.040000\n",
       "75%          0.200000\n",
       "max         99.000000\n",
       "Name: Volume_median, dtype: float64"
      ]
     },
     "execution_count": 38,
     "metadata": {},
     "output_type": "execute_result"
    }
   ],
   "source": [
    "df_analyze[df_analyze.Target==0].Volume_median.describe()"
   ]
  },
  {
   "cell_type": "code",
   "execution_count": 39,
   "metadata": {},
   "outputs": [
    {
     "data": {
      "text/plain": [
       "<matplotlib.axes._subplots.AxesSubplot at 0x23e60634d08>"
      ]
     },
     "execution_count": 39,
     "metadata": {},
     "output_type": "execute_result"
    },
    {
     "data": {
      "image/png": "[encoded data removed]",
      "text/plain": [
       "<Figure size 432x288 with 1 Axes>"
      ]
     },
     "metadata": {
      "needs_background": "light"
     },
     "output_type": "display_data"
    }
   ],
   "source": [
    "sb.boxplot(x='Target',y='Volume_median',data=df_analyze,palette=\"Set3\")"
   ]
  },
  {
   "cell_type": "markdown",
   "metadata": {},
   "source": [
    "### Kết Luận biến volume_median\n",
    "    1. Chúng ta sử dụng volume median để có được vị trí phân nữa số volume để tránh trường hợp 1 tài khoản mở rất nhiều lệnh nhỏ và một lệnh rất lớn, gây ra sự sai biệt trong mô hình.\n",
    "    2. Ở class gian lận thì trung vị volume thường lớn hơn so với các class không gian lận với Vị trí Q2 class 0 là 0.040000 ngược lại ở class 1 là 2.\n",
    "    3. Chúng ta cũng sẽ đưa biến này vào mô hình thay cho biến Volume chỉ biểu diễn Volume cho 1 lệnh, không hiển thị cho 1 account."
   ]
  },
  {
   "cell_type": "markdown",
   "metadata": {},
   "source": [
    "# Kết luận cuối cùng\n",
    "    1. Chúng ta sẽ loại bỏ ngoại lệ ở biến Num_of_order với upper là 66.\n",
    "    2. Loại bỏ ngoại lệ ở biến Num_of_sym với upper là 6.\n",
    "    3. Các giao dịch gian lận thì sẽ thường mở ít giao dịch trong cùng 1 lần, với volume trung bình rất lớn trong khoảng từ 1-4, với balance và bonus nhỏ, và các cặp tiền thường được giao dịch có chứa EUR,GPB,USD,JPY là những cặp tiền có biến động tỉ giá trên profit lớn"
   ]
  },
  {
   "cell_type": "code",
   "execution_count": 27,
   "metadata": {},
   "outputs": [
    {
     "name": "stdout",
     "output_type": "stream",
     "text": [
      " Số lượng record trước khi loại bỏ ngoại lệ :  87265\n"
     ]
    }
   ],
   "source": [
    "print(\" Số lượng record trước khi loại bỏ ngoại lệ : \",df_distance.shape[0])"
   ]
  },
  {
   "cell_type": "code",
   "execution_count": 28,
   "metadata": {},
   "outputs": [],
   "source": [
    "df_distance = df_distance[df_distance.Num_of_order<=66]\n",
    "df_distance = df_distance[df_distance.Num_of_sym<=6]"
   ]
  },
  {
   "cell_type": "code",
   "execution_count": 29,
   "metadata": {},
   "outputs": [
    {
     "name": "stdout",
     "output_type": "stream",
     "text": [
      " Số lượng record sau khi loại bỏ ngoại lệ :  66513\n"
     ]
    }
   ],
   "source": [
    "print(\" Số lượng record sau khi loại bỏ ngoại lệ : \",df_distance.shape[0])"
   ]
  },
  {
   "cell_type": "code",
   "execution_count": 30,
   "metadata": {},
   "outputs": [
    {
     "data": {
      "text/plain": [
       "<matplotlib.axes._subplots.AxesSubplot at 0x1d14c0cba90>"
      ]
     },
     "execution_count": 30,
     "metadata": {},
     "output_type": "execute_result"
    },
    {
     "data": {
      "image/png": "[encoded data removed]",
      "text/plain": [
       "<Figure size 432x288 with 1 Axes>"
      ]
     },
     "metadata": {
      "needs_background": "light"
     },
     "output_type": "display_data"
    }
   ],
   "source": [
    "sb.countplot(data=df_distance,x=\"Target\")"
   ]
  },
  {
   "cell_type": "code",
   "execution_count": 31,
   "metadata": {},
   "outputs": [],
   "source": [
    "df_distance['Bal_on_bonus'] = df_distance['Balance']/(df_distance['Bonus'] + 1)"
   ]
  },
  {
   "cell_type": "code",
   "execution_count": 17,
   "metadata": {},
   "outputs": [
    {
     "data": {
      "text/plain": [
       "Index(['Account', 'Ticket', 'Time', 'Type', 'Volume', 'Symbol', 'Open Price',\n",
       "       'S / L', 'T / P', 'Close Time', 'Close Price', 'Commission', 'Taxes',\n",
       "       'Swap', 'Profit', 'Balance', 'Bonus', 'Target', 'Num_of_order',\n",
       "       'Time_median', 'Sum_of_vol', 'Sum_of_vol_type', 'Num_of_sym',\n",
       "       'Volume_median', 'Bal_on_bonus'],\n",
       "      dtype='object')"
      ]
     },
     "execution_count": 17,
     "metadata": {},
     "output_type": "execute_result"
    }
   ],
   "source": [
    "df_distance.columns"
   ]
  },
  {
   "cell_type": "code",
   "execution_count": 32,
   "metadata": {},
   "outputs": [],
   "source": [
    "df_modeling = df_distance.groupby(by=['Account','Type','Symbol']).head(1)"
   ]
  },
  {
   "cell_type": "code",
   "execution_count": 33,
   "metadata": {},
   "outputs": [],
   "source": [
    "X = df_modeling[['Volume_median','Symbol','Balance','Bonus','Num_of_order','Num_of_sym','Sum_of_vol','Sum_of_vol_type','Bal_on_bonus']]\n",
    "Y = df_modeling.Target"
   ]
  },
  {
   "cell_type": "code",
   "execution_count": 34,
   "metadata": {},
   "outputs": [],
   "source": [
    "ct = ColumnTransformer([('encoder', OneHotEncoder(categories=[X.Symbol.unique()],handle_unknown='ignore'), [1])],remainder='passthrough')"
   ]
  },
  {
   "cell_type": "code",
   "execution_count": 35,
   "metadata": {},
   "outputs": [
    {
     "data": {
      "text/plain": [
       "ColumnTransformer(remainder='passthrough',\n",
       "                  transformers=[('encoder',\n",
       "                                 OneHotEncoder(categories=[array(['usdjpy', 'xauusd', 'gbpjpy', 'eurusd', 'gbpusd', 'eurjpy',\n",
       "       'eurchf', 'audcad', 'euraud', 'audusd', 'usdsgd', 'gbpaud',\n",
       "       'audjpy', 'usdtry', 'audchf', 'chfjpy', 'dowusd', 'eurnzd',\n",
       "       'gbpcad', 'gbpnzd', 'nasusd', 'usdchf', 'usdzar', 'eurzar',\n",
       "       'xagusd', 'audnzd', 'gbpchf', 'nzdjpy', 'cadjpy', 'eurgbp',\n",
       "       'usdcad', 'eurcad', 'nzdusd', 'esxeur', 's&pusd', 'usdmxn',\n",
       "       'usdcnh', 'usdjpym', 'eurusdm', 'gbpusdm', 'ftxgbp', 'audusdm',\n",
       "       'usdchfm', 'eurusd.cn', 'wtiusd', 'gbpjpym', 'caceur', 'daxeur',\n",
       "       'eurnzd.cn', 'hsxhkd'], dtype=object)],\n",
       "                                               handle_unknown='ignore'),\n",
       "                                 [1])])"
      ]
     },
     "execution_count": 35,
     "metadata": {},
     "output_type": "execute_result"
    }
   ],
   "source": [
    "ct.fit(X)"
   ]
  },
  {
   "cell_type": "code",
   "execution_count": 36,
   "metadata": {},
   "outputs": [],
   "source": [
    "filename = 'onehotencoder_transformer_bonus_2_23112020.pkl'\n",
    "pickle.dump(ct, open(filename, 'wb'))"
   ]
  },
  {
   "cell_type": "code",
   "execution_count": 37,
   "metadata": {},
   "outputs": [],
   "source": [
    "X_transform = ct.transform(X).toarray()"
   ]
  },
  {
   "cell_type": "code",
   "execution_count": 38,
   "metadata": {},
   "outputs": [],
   "source": [
    "X_train,X_test,Y_train,Y_test = mt.chia_bo_du_lieu(X_transform,Y,0.3)"
   ]
  },
  {
   "cell_type": "code",
   "execution_count": 39,
   "metadata": {
    "scrolled": true
   },
   "outputs": [
    {
     "name": "stderr",
     "output_type": "stream",
     "text": [
      "c:\\users\\admin\\appdata\\local\\programs\\python\\python38\\lib\\site-packages\\sklearn\\linear_model\\_logistic.py:762: ConvergenceWarning: lbfgs failed to converge (status=1):\n",
      "STOP: TOTAL NO. of ITERATIONS REACHED LIMIT.\n",
      "\n",
      "Increase the number of iterations (max_iter) or scale the data as shown in:\n",
      "    https://scikit-learn.org/stable/modules/preprocessing.html\n",
      "Please also refer to the documentation for alternative solver options:\n",
      "    https://scikit-learn.org/stable/modules/linear_model.html#logistic-regression\n",
      "  n_iter_i = _check_optimize_result(\n"
     ]
    }
   ],
   "source": [
    "nb_md = md.naive_bayes_model_build(X_train,Y_train)\n",
    "log_md = md.logistic_model_build(X_train,Y_train)\n",
    "dec_md = md.DecisionTree_classify_model_build(X_train,Y_train)\n",
    "rdf_md = md.RandomForest_classification(X_train,Y_train)"
   ]
  },
  {
   "cell_type": "code",
   "execution_count": 40,
   "metadata": {},
   "outputs": [
    {
     "name": "stdout",
     "output_type": "stream",
     "text": [
      "Naive Bayer classify report : \n",
      "              precision    recall  f1-score   support\n",
      "\n",
      "           0       1.00      0.94      0.97      6767\n",
      "           1       0.06      0.86      0.11        29\n",
      "\n",
      "    accuracy                           0.94      6796\n",
      "   macro avg       0.53      0.90      0.54      6796\n",
      "weighted avg       1.00      0.94      0.97      6796\n",
      "\n"
     ]
    }
   ],
   "source": [
    "print(\"Naive Bayer classify report : \\n\" + classification_report(Y_test,nb_md.predict(X_test)))"
   ]
  },
  {
   "cell_type": "code",
   "execution_count": 41,
   "metadata": {
    "scrolled": true
   },
   "outputs": [
    {
     "name": "stdout",
     "output_type": "stream",
     "text": [
      "Logistic classify report : \n",
      "              precision    recall  f1-score   support\n",
      "\n",
      "           0       1.00      1.00      1.00      6767\n",
      "           1       0.60      0.31      0.41        29\n",
      "\n",
      "    accuracy                           1.00      6796\n",
      "   macro avg       0.80      0.65      0.70      6796\n",
      "weighted avg       1.00      1.00      1.00      6796\n",
      "\n"
     ]
    }
   ],
   "source": [
    "print(\"Logistic classify report : \\n\" + classification_report(Y_test,log_md.predict(X_test)))"
   ]
  },
  {
   "cell_type": "code",
   "execution_count": 42,
   "metadata": {},
   "outputs": [
    {
     "name": "stdout",
     "output_type": "stream",
     "text": [
      "Decision Tree classify report : \n",
      "              precision    recall  f1-score   support\n",
      "\n",
      "           0       1.00      1.00      1.00      6767\n",
      "           1       0.78      0.86      0.82        29\n",
      "\n",
      "    accuracy                           1.00      6796\n",
      "   macro avg       0.89      0.93      0.91      6796\n",
      "weighted avg       1.00      1.00      1.00      6796\n",
      "\n"
     ]
    }
   ],
   "source": [
    "print(\"Decision Tree classify report : \\n\" + classification_report(Y_test,dec_md.predict(X_test)))"
   ]
  },
  {
   "cell_type": "code",
   "execution_count": 43,
   "metadata": {},
   "outputs": [
    {
     "name": "stdout",
     "output_type": "stream",
     "text": [
      "Random Forest classify report : \n",
      "              precision    recall  f1-score   support\n",
      "\n",
      "           0       1.00      1.00      1.00      6767\n",
      "           1       0.83      0.86      0.85        29\n",
      "\n",
      "    accuracy                           1.00      6796\n",
      "   macro avg       0.92      0.93      0.92      6796\n",
      "weighted avg       1.00      1.00      1.00      6796\n",
      "\n"
     ]
    }
   ],
   "source": [
    "print(\"Random Forest classify report : \\n\" + classification_report(Y_test,rdf_md.predict(X_test)))"
   ]
  },
  {
   "cell_type": "code",
   "execution_count": 44,
   "metadata": {},
   "outputs": [
    {
     "name": "stdout",
     "output_type": "stream",
     "text": [
      "- Precision and Recall Metric\n",
      "              precision    recall  f1-score   support\n",
      "\n",
      "           0       1.00      1.00      1.00      6767\n",
      "           1       0.78      0.86      0.82        29\n",
      "\n",
      "    accuracy                           1.00      6796\n",
      "   macro avg       0.89      0.93      0.91      6796\n",
      "weighted avg       1.00      1.00      1.00      6796\n",
      "\n",
      "- Confusion Metric\n",
      "[[6760    7]\n",
      " [   4   25]]\n"
     ]
    }
   ],
   "source": [
    "pt.danh_gia_mo_hinh_logistic(Y_test,dec_md.predict(X_test))"
   ]
  },
  {
   "cell_type": "code",
   "execution_count": 45,
   "metadata": {},
   "outputs": [
    {
     "name": "stdout",
     "output_type": "stream",
     "text": [
      "- Precision and Recall Metric\n",
      "              precision    recall  f1-score   support\n",
      "\n",
      "           0       1.00      1.00      1.00      6767\n",
      "           1       0.83      0.86      0.85        29\n",
      "\n",
      "    accuracy                           1.00      6796\n",
      "   macro avg       0.92      0.93      0.92      6796\n",
      "weighted avg       1.00      1.00      1.00      6796\n",
      "\n",
      "- Confusion Metric\n",
      "[[6762    5]\n",
      " [   4   25]]\n"
     ]
    }
   ],
   "source": [
    "pt.danh_gia_mo_hinh_logistic(Y_test,rdf_md.predict(X_test))"
   ]
  },
  {
   "cell_type": "code",
   "execution_count": 46,
   "metadata": {},
   "outputs": [
    {
     "name": "stdout",
     "output_type": "stream",
     "text": [
      "Random forest classification accuracy : 0.9986756915832843\n"
     ]
    }
   ],
   "source": [
    "print(\"Random forest classification accuracy :\",rdf_md.score(X_test,Y_test))"
   ]
  },
  {
   "cell_type": "code",
   "execution_count": 47,
   "metadata": {},
   "outputs": [
    {
     "name": "stdout",
     "output_type": "stream",
     "text": [
      "Decision Tree classification accuracy : 0.9983814008240142\n"
     ]
    }
   ],
   "source": [
    "print(\"Decision Tree classification accuracy :\",dec_md.score(X_test,Y_test))"
   ]
  },
  {
   "cell_type": "code",
   "execution_count": 96,
   "metadata": {},
   "outputs": [
    {
     "data": {
      "text/html": [
       "<div>\n",
       "<style scoped>\n",
       "    .dataframe tbody tr th:only-of-type {\n",
       "        vertical-align: middle;\n",
       "    }\n",
       "\n",
       "    .dataframe tbody tr th {\n",
       "        vertical-align: top;\n",
       "    }\n",
       "\n",
       "    .dataframe thead th {\n",
       "        text-align: right;\n",
       "    }\n",
       "</style>\n",
       "<table border=\"1\" class=\"dataframe\">\n",
       "  <thead>\n",
       "    <tr style=\"text-align: right;\">\n",
       "      <th></th>\n",
       "      <th>Volume_median</th>\n",
       "      <th>Symbol</th>\n",
       "      <th>Balance</th>\n",
       "      <th>Bonus</th>\n",
       "      <th>Num_of_order</th>\n",
       "      <th>Num_of_sym</th>\n",
       "      <th>Sum_of_vol</th>\n",
       "      <th>Sum_of_vol_type</th>\n",
       "      <th>Bal_on_bonus</th>\n",
       "    </tr>\n",
       "  </thead>\n",
       "  <tbody>\n",
       "    <tr>\n",
       "      <td>0</td>\n",
       "      <td>2.0</td>\n",
       "      <td>usdjpy</td>\n",
       "      <td>900000.0</td>\n",
       "      <td>910000.0</td>\n",
       "      <td>9</td>\n",
       "      <td>1</td>\n",
       "      <td>25.0</td>\n",
       "      <td>25.0</td>\n",
       "      <td>1.989011</td>\n",
       "    </tr>\n",
       "    <tr>\n",
       "      <td>9</td>\n",
       "      <td>2.0</td>\n",
       "      <td>eurusd</td>\n",
       "      <td>600000.0</td>\n",
       "      <td>600000.0</td>\n",
       "      <td>10</td>\n",
       "      <td>1</td>\n",
       "      <td>20.0</td>\n",
       "      <td>20.0</td>\n",
       "      <td>2.000000</td>\n",
       "    </tr>\n",
       "    <tr>\n",
       "      <td>19</td>\n",
       "      <td>5.0</td>\n",
       "      <td>eurusd</td>\n",
       "      <td>800000.0</td>\n",
       "      <td>800000.0</td>\n",
       "      <td>8</td>\n",
       "      <td>1</td>\n",
       "      <td>40.0</td>\n",
       "      <td>40.0</td>\n",
       "      <td>2.000000</td>\n",
       "    </tr>\n",
       "    <tr>\n",
       "      <td>27</td>\n",
       "      <td>20.0</td>\n",
       "      <td>gbpusd</td>\n",
       "      <td>1000000.0</td>\n",
       "      <td>1000000.0</td>\n",
       "      <td>1</td>\n",
       "      <td>1</td>\n",
       "      <td>20.0</td>\n",
       "      <td>20.0</td>\n",
       "      <td>2.000000</td>\n",
       "    </tr>\n",
       "    <tr>\n",
       "      <td>28</td>\n",
       "      <td>13.0</td>\n",
       "      <td>usdjpy</td>\n",
       "      <td>500000.0</td>\n",
       "      <td>500000.0</td>\n",
       "      <td>1</td>\n",
       "      <td>1</td>\n",
       "      <td>13.0</td>\n",
       "      <td>13.0</td>\n",
       "      <td>2.000000</td>\n",
       "    </tr>\n",
       "    <tr>\n",
       "      <td>...</td>\n",
       "      <td>...</td>\n",
       "      <td>...</td>\n",
       "      <td>...</td>\n",
       "      <td>...</td>\n",
       "      <td>...</td>\n",
       "      <td>...</td>\n",
       "      <td>...</td>\n",
       "      <td>...</td>\n",
       "      <td>...</td>\n",
       "    </tr>\n",
       "    <tr>\n",
       "      <td>3493</td>\n",
       "      <td>3.5</td>\n",
       "      <td>gbpusd</td>\n",
       "      <td>900000.0</td>\n",
       "      <td>1820000.0</td>\n",
       "      <td>8</td>\n",
       "      <td>2</td>\n",
       "      <td>30.0</td>\n",
       "      <td>12.0</td>\n",
       "      <td>1.494505</td>\n",
       "    </tr>\n",
       "    <tr>\n",
       "      <td>3497</td>\n",
       "      <td>3.5</td>\n",
       "      <td>gbpjpy</td>\n",
       "      <td>900000.0</td>\n",
       "      <td>1820000.0</td>\n",
       "      <td>8</td>\n",
       "      <td>2</td>\n",
       "      <td>30.0</td>\n",
       "      <td>18.0</td>\n",
       "      <td>1.494505</td>\n",
       "    </tr>\n",
       "    <tr>\n",
       "      <td>3501</td>\n",
       "      <td>3.5</td>\n",
       "      <td>gbpusd</td>\n",
       "      <td>900000.0</td>\n",
       "      <td>1820000.0</td>\n",
       "      <td>8</td>\n",
       "      <td>2</td>\n",
       "      <td>30.0</td>\n",
       "      <td>12.0</td>\n",
       "      <td>1.494505</td>\n",
       "    </tr>\n",
       "    <tr>\n",
       "      <td>3505</td>\n",
       "      <td>25.0</td>\n",
       "      <td>gbpjpy</td>\n",
       "      <td>1000000.0</td>\n",
       "      <td>2020000.0</td>\n",
       "      <td>1</td>\n",
       "      <td>1</td>\n",
       "      <td>25.0</td>\n",
       "      <td>25.0</td>\n",
       "      <td>1.495050</td>\n",
       "    </tr>\n",
       "    <tr>\n",
       "      <td>3506</td>\n",
       "      <td>25.0</td>\n",
       "      <td>gbpjpy</td>\n",
       "      <td>1000000.0</td>\n",
       "      <td>2020000.0</td>\n",
       "      <td>1</td>\n",
       "      <td>1</td>\n",
       "      <td>25.0</td>\n",
       "      <td>25.0</td>\n",
       "      <td>1.495050</td>\n",
       "    </tr>\n",
       "  </tbody>\n",
       "</table>\n",
       "<p>927 rows × 9 columns</p>\n",
       "</div>"
      ],
      "text/plain": [
       "      Volume_median  Symbol    Balance      Bonus  Num_of_order  Num_of_sym  \\\n",
       "0               2.0  usdjpy   900000.0   910000.0             9           1   \n",
       "9               2.0  eurusd   600000.0   600000.0            10           1   \n",
       "19              5.0  eurusd   800000.0   800000.0             8           1   \n",
       "27             20.0  gbpusd  1000000.0  1000000.0             1           1   \n",
       "28             13.0  usdjpy   500000.0   500000.0             1           1   \n",
       "...             ...     ...        ...        ...           ...         ...   \n",
       "3493            3.5  gbpusd   900000.0  1820000.0             8           2   \n",
       "3497            3.5  gbpjpy   900000.0  1820000.0             8           2   \n",
       "3501            3.5  gbpusd   900000.0  1820000.0             8           2   \n",
       "3505           25.0  gbpjpy  1000000.0  2020000.0             1           1   \n",
       "3506           25.0  gbpjpy  1000000.0  2020000.0             1           1   \n",
       "\n",
       "      Sum_of_vol  Sum_of_vol_type  Bal_on_bonus  \n",
       "0           25.0             25.0      1.989011  \n",
       "9           20.0             20.0      2.000000  \n",
       "19          40.0             40.0      2.000000  \n",
       "27          20.0             20.0      2.000000  \n",
       "28          13.0             13.0      2.000000  \n",
       "...          ...              ...           ...  \n",
       "3493        30.0             12.0      1.494505  \n",
       "3497        30.0             18.0      1.494505  \n",
       "3501        30.0             12.0      1.494505  \n",
       "3505        25.0             25.0      1.495050  \n",
       "3506        25.0             25.0      1.495050  \n",
       "\n",
       "[927 rows x 9 columns]"
      ]
     },
     "execution_count": 96,
     "metadata": {},
     "output_type": "execute_result"
    }
   ],
   "source": [
    "df_modeling[df_modeling.Target==1][['Volume_median','Symbol','Balance','Bonus','Num_of_order','Num_of_sym','Sum_of_vol','Sum_of_vol_type','Bal_on_bonus']]"
   ]
  },
  {
   "cell_type": "code",
   "execution_count": 71,
   "metadata": {},
   "outputs": [
    {
     "data": {
      "text/html": [
       "<div>\n",
       "<style scoped>\n",
       "    .dataframe tbody tr th:only-of-type {\n",
       "        vertical-align: middle;\n",
       "    }\n",
       "\n",
       "    .dataframe tbody tr th {\n",
       "        vertical-align: top;\n",
       "    }\n",
       "\n",
       "    .dataframe thead th {\n",
       "        text-align: right;\n",
       "    }\n",
       "</style>\n",
       "<table border=\"1\" class=\"dataframe\">\n",
       "  <thead>\n",
       "    <tr style=\"text-align: right;\">\n",
       "      <th></th>\n",
       "      <th>Account</th>\n",
       "      <th>Ticket</th>\n",
       "      <th>Time</th>\n",
       "      <th>Type</th>\n",
       "      <th>Volume</th>\n",
       "      <th>Symbol</th>\n",
       "      <th>Open Price</th>\n",
       "      <th>S / L</th>\n",
       "      <th>T / P</th>\n",
       "      <th>Close Time</th>\n",
       "      <th>...</th>\n",
       "      <th>Bonus</th>\n",
       "      <th>Target</th>\n",
       "      <th>Num_of_order</th>\n",
       "      <th>Time_median</th>\n",
       "      <th>Sum_of_vol</th>\n",
       "      <th>Sum_of_vol_type</th>\n",
       "      <th>Num_of_sym</th>\n",
       "      <th>Volume_median</th>\n",
       "      <th>Bal_on_bonus</th>\n",
       "      <th>Y_hat</th>\n",
       "    </tr>\n",
       "  </thead>\n",
       "  <tbody>\n",
       "    <tr>\n",
       "      <td>21185</td>\n",
       "      <td>5374268</td>\n",
       "      <td>NaN</td>\n",
       "      <td>5.017706e+05</td>\n",
       "      <td>buy</td>\n",
       "      <td>1.00</td>\n",
       "      <td>usdjpy</td>\n",
       "      <td>104.60200</td>\n",
       "      <td>0.0</td>\n",
       "      <td>0.0</td>\n",
       "      <td>0</td>\n",
       "      <td>...</td>\n",
       "      <td>200000.0</td>\n",
       "      <td>0</td>\n",
       "      <td>8</td>\n",
       "      <td>5.063146e+05</td>\n",
       "      <td>8.00</td>\n",
       "      <td>4.00</td>\n",
       "      <td>1</td>\n",
       "      <td>1.00</td>\n",
       "      <td>1.856990</td>\n",
       "      <td>1</td>\n",
       "    </tr>\n",
       "    <tr>\n",
       "      <td>24291</td>\n",
       "      <td>5359031</td>\n",
       "      <td>NaN</td>\n",
       "      <td>5.221576e+05</td>\n",
       "      <td>buy</td>\n",
       "      <td>9.90</td>\n",
       "      <td>usdjpy</td>\n",
       "      <td>104.43400</td>\n",
       "      <td>0.0</td>\n",
       "      <td>0.0</td>\n",
       "      <td>0</td>\n",
       "      <td>...</td>\n",
       "      <td>200712.0</td>\n",
       "      <td>0</td>\n",
       "      <td>1</td>\n",
       "      <td>5.221576e+05</td>\n",
       "      <td>9.90</td>\n",
       "      <td>9.90</td>\n",
       "      <td>1</td>\n",
       "      <td>9.90</td>\n",
       "      <td>4.331455</td>\n",
       "      <td>1</td>\n",
       "    </tr>\n",
       "    <tr>\n",
       "      <td>24464</td>\n",
       "      <td>5372765</td>\n",
       "      <td>NaN</td>\n",
       "      <td>5.239336e+05</td>\n",
       "      <td>sell</td>\n",
       "      <td>10.00</td>\n",
       "      <td>s&amp;pusd</td>\n",
       "      <td>3613.18000</td>\n",
       "      <td>0.0</td>\n",
       "      <td>0.0</td>\n",
       "      <td>0</td>\n",
       "      <td>...</td>\n",
       "      <td>700000.0</td>\n",
       "      <td>0</td>\n",
       "      <td>6</td>\n",
       "      <td>8.145406e+05</td>\n",
       "      <td>39.00</td>\n",
       "      <td>30.00</td>\n",
       "      <td>2</td>\n",
       "      <td>10.00</td>\n",
       "      <td>1.500000</td>\n",
       "      <td>1</td>\n",
       "    </tr>\n",
       "    <tr>\n",
       "      <td>28777</td>\n",
       "      <td>5374240</td>\n",
       "      <td>NaN</td>\n",
       "      <td>7.871716e+05</td>\n",
       "      <td>buy</td>\n",
       "      <td>2.00</td>\n",
       "      <td>gbpjpy</td>\n",
       "      <td>138.05500</td>\n",
       "      <td>0.0</td>\n",
       "      <td>0.0</td>\n",
       "      <td>0</td>\n",
       "      <td>...</td>\n",
       "      <td>1460000.0</td>\n",
       "      <td>0</td>\n",
       "      <td>6</td>\n",
       "      <td>7.874931e+05</td>\n",
       "      <td>10.00</td>\n",
       "      <td>10.00</td>\n",
       "      <td>1</td>\n",
       "      <td>2.00</td>\n",
       "      <td>1.500000</td>\n",
       "      <td>1</td>\n",
       "    </tr>\n",
       "    <tr>\n",
       "      <td>29603</td>\n",
       "      <td>5182754</td>\n",
       "      <td>NaN</td>\n",
       "      <td>7.056658e+06</td>\n",
       "      <td>buy</td>\n",
       "      <td>1.00</td>\n",
       "      <td>eurusd</td>\n",
       "      <td>1.19072</td>\n",
       "      <td>0.0</td>\n",
       "      <td>0.0</td>\n",
       "      <td>0</td>\n",
       "      <td>...</td>\n",
       "      <td>1200000.0</td>\n",
       "      <td>0</td>\n",
       "      <td>7</td>\n",
       "      <td>1.765912e+07</td>\n",
       "      <td>5.50</td>\n",
       "      <td>2.00</td>\n",
       "      <td>3</td>\n",
       "      <td>0.75</td>\n",
       "      <td>3.042746</td>\n",
       "      <td>1</td>\n",
       "    </tr>\n",
       "    <tr>\n",
       "      <td>30826</td>\n",
       "      <td>5263380</td>\n",
       "      <td>NaN</td>\n",
       "      <td>8.302058e+06</td>\n",
       "      <td>buy</td>\n",
       "      <td>0.15</td>\n",
       "      <td>eurusd</td>\n",
       "      <td>1.19020</td>\n",
       "      <td>0.0</td>\n",
       "      <td>0.0</td>\n",
       "      <td>0</td>\n",
       "      <td>...</td>\n",
       "      <td>3000000.0</td>\n",
       "      <td>0</td>\n",
       "      <td>24</td>\n",
       "      <td>1.298890e+07</td>\n",
       "      <td>26.81</td>\n",
       "      <td>8.35</td>\n",
       "      <td>5</td>\n",
       "      <td>1.00</td>\n",
       "      <td>1.478566</td>\n",
       "      <td>1</td>\n",
       "    </tr>\n",
       "    <tr>\n",
       "      <td>31368</td>\n",
       "      <td>5344874</td>\n",
       "      <td>NaN</td>\n",
       "      <td>1.048442e+06</td>\n",
       "      <td>buy</td>\n",
       "      <td>3.00</td>\n",
       "      <td>nasusd</td>\n",
       "      <td>11803.38000</td>\n",
       "      <td>0.0</td>\n",
       "      <td>0.0</td>\n",
       "      <td>0</td>\n",
       "      <td>...</td>\n",
       "      <td>1130967.0</td>\n",
       "      <td>0</td>\n",
       "      <td>4</td>\n",
       "      <td>1.072581e+06</td>\n",
       "      <td>26.00</td>\n",
       "      <td>6.00</td>\n",
       "      <td>2</td>\n",
       "      <td>3.00</td>\n",
       "      <td>1.270575</td>\n",
       "      <td>1</td>\n",
       "    </tr>\n",
       "    <tr>\n",
       "      <td>42100</td>\n",
       "      <td>200135389</td>\n",
       "      <td>NaN</td>\n",
       "      <td>4.633536e+05</td>\n",
       "      <td>buy limit</td>\n",
       "      <td>5.00</td>\n",
       "      <td>gbpusd</td>\n",
       "      <td>1.32000</td>\n",
       "      <td>0.0</td>\n",
       "      <td>0.0</td>\n",
       "      <td>0</td>\n",
       "      <td>...</td>\n",
       "      <td>400000.0</td>\n",
       "      <td>0</td>\n",
       "      <td>2</td>\n",
       "      <td>4.633536e+05</td>\n",
       "      <td>10.00</td>\n",
       "      <td>5.00</td>\n",
       "      <td>2</td>\n",
       "      <td>5.00</td>\n",
       "      <td>1.500000</td>\n",
       "      <td>1</td>\n",
       "    </tr>\n",
       "    <tr>\n",
       "      <td>50482</td>\n",
       "      <td>200142264</td>\n",
       "      <td>NaN</td>\n",
       "      <td>1.996416e+06</td>\n",
       "      <td>buy limit</td>\n",
       "      <td>0.50</td>\n",
       "      <td>eurjpy</td>\n",
       "      <td>120.94600</td>\n",
       "      <td>0.0</td>\n",
       "      <td>0.0</td>\n",
       "      <td>0</td>\n",
       "      <td>...</td>\n",
       "      <td>800000.0</td>\n",
       "      <td>0</td>\n",
       "      <td>12</td>\n",
       "      <td>1.996416e+06</td>\n",
       "      <td>4.50</td>\n",
       "      <td>0.50</td>\n",
       "      <td>1</td>\n",
       "      <td>0.50</td>\n",
       "      <td>2.249391</td>\n",
       "      <td>1</td>\n",
       "    </tr>\n",
       "    <tr>\n",
       "      <td>50707</td>\n",
       "      <td>200077631</td>\n",
       "      <td>NaN</td>\n",
       "      <td>8.155456e+05</td>\n",
       "      <td>sell</td>\n",
       "      <td>0.01</td>\n",
       "      <td>gbpjpy</td>\n",
       "      <td>137.90100</td>\n",
       "      <td>0.0</td>\n",
       "      <td>0.0</td>\n",
       "      <td>0</td>\n",
       "      <td>...</td>\n",
       "      <td>42634.0</td>\n",
       "      <td>0</td>\n",
       "      <td>8</td>\n",
       "      <td>7.633336e+05</td>\n",
       "      <td>4.04</td>\n",
       "      <td>0.01</td>\n",
       "      <td>3</td>\n",
       "      <td>0.01</td>\n",
       "      <td>1.322231</td>\n",
       "      <td>1</td>\n",
       "    </tr>\n",
       "    <tr>\n",
       "      <td>53238</td>\n",
       "      <td>200199604</td>\n",
       "      <td>NaN</td>\n",
       "      <td>4.978766e+05</td>\n",
       "      <td>sell</td>\n",
       "      <td>5.00</td>\n",
       "      <td>audusd</td>\n",
       "      <td>0.73235</td>\n",
       "      <td>0.0</td>\n",
       "      <td>0.0</td>\n",
       "      <td>0</td>\n",
       "      <td>...</td>\n",
       "      <td>1001287.0</td>\n",
       "      <td>0</td>\n",
       "      <td>3</td>\n",
       "      <td>7.526506e+05</td>\n",
       "      <td>15.00</td>\n",
       "      <td>15.00</td>\n",
       "      <td>1</td>\n",
       "      <td>5.00</td>\n",
       "      <td>1.382229</td>\n",
       "      <td>1</td>\n",
       "    </tr>\n",
       "    <tr>\n",
       "      <td>56840</td>\n",
       "      <td>200218938</td>\n",
       "      <td>NaN</td>\n",
       "      <td>5.086446e+05</td>\n",
       "      <td>sell</td>\n",
       "      <td>1.00</td>\n",
       "      <td>gbpjpy</td>\n",
       "      <td>138.22200</td>\n",
       "      <td>0.0</td>\n",
       "      <td>0.0</td>\n",
       "      <td>0</td>\n",
       "      <td>...</td>\n",
       "      <td>151273.0</td>\n",
       "      <td>0</td>\n",
       "      <td>4</td>\n",
       "      <td>5.525696e+05</td>\n",
       "      <td>4.00</td>\n",
       "      <td>1.00</td>\n",
       "      <td>4</td>\n",
       "      <td>1.00</td>\n",
       "      <td>1.684888</td>\n",
       "      <td>1</td>\n",
       "    </tr>\n",
       "    <tr>\n",
       "      <td>56980</td>\n",
       "      <td>200160849</td>\n",
       "      <td>NaN</td>\n",
       "      <td>5.096156e+05</td>\n",
       "      <td>buy</td>\n",
       "      <td>5.00</td>\n",
       "      <td>gbpjpy</td>\n",
       "      <td>138.29700</td>\n",
       "      <td>0.0</td>\n",
       "      <td>0.0</td>\n",
       "      <td>0</td>\n",
       "      <td>...</td>\n",
       "      <td>590000.0</td>\n",
       "      <td>0</td>\n",
       "      <td>5</td>\n",
       "      <td>5.099601e+05</td>\n",
       "      <td>10.07</td>\n",
       "      <td>10.00</td>\n",
       "      <td>2</td>\n",
       "      <td>5.00</td>\n",
       "      <td>1.962890</td>\n",
       "      <td>1</td>\n",
       "    </tr>\n",
       "    <tr>\n",
       "      <td>66718</td>\n",
       "      <td>200213446</td>\n",
       "      <td>NaN</td>\n",
       "      <td>1.038304e+06</td>\n",
       "      <td>buy</td>\n",
       "      <td>3.00</td>\n",
       "      <td>nasusd</td>\n",
       "      <td>11737.38000</td>\n",
       "      <td>0.0</td>\n",
       "      <td>0.0</td>\n",
       "      <td>0</td>\n",
       "      <td>...</td>\n",
       "      <td>1200000.0</td>\n",
       "      <td>0</td>\n",
       "      <td>6</td>\n",
       "      <td>1.070488e+06</td>\n",
       "      <td>39.00</td>\n",
       "      <td>9.00</td>\n",
       "      <td>2</td>\n",
       "      <td>3.00</td>\n",
       "      <td>1.498688</td>\n",
       "      <td>1</td>\n",
       "    </tr>\n",
       "    <tr>\n",
       "      <td>66796</td>\n",
       "      <td>200027475</td>\n",
       "      <td>NaN</td>\n",
       "      <td>1.048053e+06</td>\n",
       "      <td>sell</td>\n",
       "      <td>10.00</td>\n",
       "      <td>eurusd</td>\n",
       "      <td>1.18260</td>\n",
       "      <td>0.0</td>\n",
       "      <td>0.0</td>\n",
       "      <td>0</td>\n",
       "      <td>...</td>\n",
       "      <td>5000000.0</td>\n",
       "      <td>0</td>\n",
       "      <td>2</td>\n",
       "      <td>1.048053e+06</td>\n",
       "      <td>11.00</td>\n",
       "      <td>10.00</td>\n",
       "      <td>2</td>\n",
       "      <td>10.00</td>\n",
       "      <td>1.500000</td>\n",
       "      <td>1</td>\n",
       "    </tr>\n",
       "    <tr>\n",
       "      <td>70808</td>\n",
       "      <td>200127928</td>\n",
       "      <td>NaN</td>\n",
       "      <td>5.899807e+06</td>\n",
       "      <td>buy</td>\n",
       "      <td>5.00</td>\n",
       "      <td>usdjpy</td>\n",
       "      <td>105.66500</td>\n",
       "      <td>0.0</td>\n",
       "      <td>0.0</td>\n",
       "      <td>0</td>\n",
       "      <td>...</td>\n",
       "      <td>900000.0</td>\n",
       "      <td>0</td>\n",
       "      <td>16</td>\n",
       "      <td>1.628194e+07</td>\n",
       "      <td>29.40</td>\n",
       "      <td>14.70</td>\n",
       "      <td>1</td>\n",
       "      <td>1.00</td>\n",
       "      <td>1.349393</td>\n",
       "      <td>1</td>\n",
       "    </tr>\n",
       "    <tr>\n",
       "      <td>70816</td>\n",
       "      <td>200127928</td>\n",
       "      <td>NaN</td>\n",
       "      <td>5.899828e+06</td>\n",
       "      <td>sell</td>\n",
       "      <td>5.00</td>\n",
       "      <td>usdjpy</td>\n",
       "      <td>105.64700</td>\n",
       "      <td>0.0</td>\n",
       "      <td>0.0</td>\n",
       "      <td>0</td>\n",
       "      <td>...</td>\n",
       "      <td>900000.0</td>\n",
       "      <td>0</td>\n",
       "      <td>16</td>\n",
       "      <td>1.628193e+07</td>\n",
       "      <td>29.40</td>\n",
       "      <td>14.70</td>\n",
       "      <td>1</td>\n",
       "      <td>1.00</td>\n",
       "      <td>1.349393</td>\n",
       "      <td>1</td>\n",
       "    </tr>\n",
       "  </tbody>\n",
       "</table>\n",
       "<p>17 rows × 26 columns</p>\n",
       "</div>"
      ],
      "text/plain": [
       "         Account  Ticket          Time       Type  Volume  Symbol  \\\n",
       "21185    5374268     NaN  5.017706e+05        buy    1.00  usdjpy   \n",
       "24291    5359031     NaN  5.221576e+05        buy    9.90  usdjpy   \n",
       "24464    5372765     NaN  5.239336e+05       sell   10.00  s&pusd   \n",
       "28777    5374240     NaN  7.871716e+05        buy    2.00  gbpjpy   \n",
       "29603    5182754     NaN  7.056658e+06        buy    1.00  eurusd   \n",
       "30826    5263380     NaN  8.302058e+06        buy    0.15  eurusd   \n",
       "31368    5344874     NaN  1.048442e+06        buy    3.00  nasusd   \n",
       "42100  200135389     NaN  4.633536e+05  buy limit    5.00  gbpusd   \n",
       "50482  200142264     NaN  1.996416e+06  buy limit    0.50  eurjpy   \n",
       "50707  200077631     NaN  8.155456e+05       sell    0.01  gbpjpy   \n",
       "53238  200199604     NaN  4.978766e+05       sell    5.00  audusd   \n",
       "56840  200218938     NaN  5.086446e+05       sell    1.00  gbpjpy   \n",
       "56980  200160849     NaN  5.096156e+05        buy    5.00  gbpjpy   \n",
       "66718  200213446     NaN  1.038304e+06        buy    3.00  nasusd   \n",
       "66796  200027475     NaN  1.048053e+06       sell   10.00  eurusd   \n",
       "70808  200127928     NaN  5.899807e+06        buy    5.00  usdjpy   \n",
       "70816  200127928     NaN  5.899828e+06       sell    5.00  usdjpy   \n",
       "\n",
       "        Open Price  S / L  T / P Close Time  ...      Bonus  Target  \\\n",
       "21185    104.60200    0.0    0.0          0  ...   200000.0       0   \n",
       "24291    104.43400    0.0    0.0          0  ...   200712.0       0   \n",
       "24464   3613.18000    0.0    0.0          0  ...   700000.0       0   \n",
       "28777    138.05500    0.0    0.0          0  ...  1460000.0       0   \n",
       "29603      1.19072    0.0    0.0          0  ...  1200000.0       0   \n",
       "30826      1.19020    0.0    0.0          0  ...  3000000.0       0   \n",
       "31368  11803.38000    0.0    0.0          0  ...  1130967.0       0   \n",
       "42100      1.32000    0.0    0.0          0  ...   400000.0       0   \n",
       "50482    120.94600    0.0    0.0          0  ...   800000.0       0   \n",
       "50707    137.90100    0.0    0.0          0  ...    42634.0       0   \n",
       "53238      0.73235    0.0    0.0          0  ...  1001287.0       0   \n",
       "56840    138.22200    0.0    0.0          0  ...   151273.0       0   \n",
       "56980    138.29700    0.0    0.0          0  ...   590000.0       0   \n",
       "66718  11737.38000    0.0    0.0          0  ...  1200000.0       0   \n",
       "66796      1.18260    0.0    0.0          0  ...  5000000.0       0   \n",
       "70808    105.66500    0.0    0.0          0  ...   900000.0       0   \n",
       "70816    105.64700    0.0    0.0          0  ...   900000.0       0   \n",
       "\n",
       "       Num_of_order   Time_median Sum_of_vol  Sum_of_vol_type  Num_of_sym  \\\n",
       "21185             8  5.063146e+05       8.00             4.00           1   \n",
       "24291             1  5.221576e+05       9.90             9.90           1   \n",
       "24464             6  8.145406e+05      39.00            30.00           2   \n",
       "28777             6  7.874931e+05      10.00            10.00           1   \n",
       "29603             7  1.765912e+07       5.50             2.00           3   \n",
       "30826            24  1.298890e+07      26.81             8.35           5   \n",
       "31368             4  1.072581e+06      26.00             6.00           2   \n",
       "42100             2  4.633536e+05      10.00             5.00           2   \n",
       "50482            12  1.996416e+06       4.50             0.50           1   \n",
       "50707             8  7.633336e+05       4.04             0.01           3   \n",
       "53238             3  7.526506e+05      15.00            15.00           1   \n",
       "56840             4  5.525696e+05       4.00             1.00           4   \n",
       "56980             5  5.099601e+05      10.07            10.00           2   \n",
       "66718             6  1.070488e+06      39.00             9.00           2   \n",
       "66796             2  1.048053e+06      11.00            10.00           2   \n",
       "70808            16  1.628194e+07      29.40            14.70           1   \n",
       "70816            16  1.628193e+07      29.40            14.70           1   \n",
       "\n",
       "       Volume_median  Bal_on_bonus  Y_hat  \n",
       "21185           1.00      1.856990      1  \n",
       "24291           9.90      4.331455      1  \n",
       "24464          10.00      1.500000      1  \n",
       "28777           2.00      1.500000      1  \n",
       "29603           0.75      3.042746      1  \n",
       "30826           1.00      1.478566      1  \n",
       "31368           3.00      1.270575      1  \n",
       "42100           5.00      1.500000      1  \n",
       "50482           0.50      2.249391      1  \n",
       "50707           0.01      1.322231      1  \n",
       "53238           5.00      1.382229      1  \n",
       "56840           1.00      1.684888      1  \n",
       "56980           5.00      1.962890      1  \n",
       "66718           3.00      1.498688      1  \n",
       "66796          10.00      1.500000      1  \n",
       "70808           1.00      1.349393      1  \n",
       "70816           1.00      1.349393      1  \n",
       "\n",
       "[17 rows x 26 columns]"
      ]
     },
     "execution_count": 71,
     "metadata": {},
     "output_type": "execute_result"
    }
   ],
   "source": [
    "df_modeling[(df_modeling.Target==0) & (df_modeling.Y_hat==1)]"
   ]
  },
  {
   "cell_type": "code",
   "execution_count": 73,
   "metadata": {},
   "outputs": [
    {
     "data": {
      "text/html": [
       "<div>\n",
       "<style scoped>\n",
       "    .dataframe tbody tr th:only-of-type {\n",
       "        vertical-align: middle;\n",
       "    }\n",
       "\n",
       "    .dataframe tbody tr th {\n",
       "        vertical-align: top;\n",
       "    }\n",
       "\n",
       "    .dataframe thead th {\n",
       "        text-align: right;\n",
       "    }\n",
       "</style>\n",
       "<table border=\"1\" class=\"dataframe\">\n",
       "  <thead>\n",
       "    <tr style=\"text-align: right;\">\n",
       "      <th></th>\n",
       "      <th>Account</th>\n",
       "      <th>Ticket</th>\n",
       "      <th>Time</th>\n",
       "      <th>Type</th>\n",
       "      <th>Volume</th>\n",
       "      <th>Symbol</th>\n",
       "      <th>Open Price</th>\n",
       "      <th>S / L</th>\n",
       "      <th>T / P</th>\n",
       "      <th>Close Time</th>\n",
       "      <th>...</th>\n",
       "      <th>Target</th>\n",
       "      <th>Num_of_order</th>\n",
       "      <th>Time_median</th>\n",
       "      <th>Sum_of_vol</th>\n",
       "      <th>Sum_of_vol_type</th>\n",
       "      <th>Num_of_sym</th>\n",
       "      <th>Volume_median</th>\n",
       "      <th>Bal_on_bonus</th>\n",
       "      <th>Y_hat</th>\n",
       "      <th>Y_hat_rdf</th>\n",
       "    </tr>\n",
       "  </thead>\n",
       "  <tbody>\n",
       "    <tr>\n",
       "      <td>7797</td>\n",
       "      <td>5338978</td>\n",
       "      <td>NaN</td>\n",
       "      <td>4.623356e+05</td>\n",
       "      <td>sell</td>\n",
       "      <td>10.0</td>\n",
       "      <td>gbpusd</td>\n",
       "      <td>1.32110</td>\n",
       "      <td>0.0</td>\n",
       "      <td>0.0</td>\n",
       "      <td>0</td>\n",
       "      <td>...</td>\n",
       "      <td>0</td>\n",
       "      <td>2</td>\n",
       "      <td>4.849246e+05</td>\n",
       "      <td>10.01</td>\n",
       "      <td>10.0</td>\n",
       "      <td>2</td>\n",
       "      <td>5.005</td>\n",
       "      <td>0.990984</td>\n",
       "      <td>0</td>\n",
       "      <td>1</td>\n",
       "    </tr>\n",
       "    <tr>\n",
       "      <td>24917</td>\n",
       "      <td>5369306</td>\n",
       "      <td>NaN</td>\n",
       "      <td>5.321226e+05</td>\n",
       "      <td>buy</td>\n",
       "      <td>5.0</td>\n",
       "      <td>gbpusd</td>\n",
       "      <td>1.32178</td>\n",
       "      <td>0.0</td>\n",
       "      <td>0.0</td>\n",
       "      <td>0</td>\n",
       "      <td>...</td>\n",
       "      <td>0</td>\n",
       "      <td>4</td>\n",
       "      <td>5.321666e+05</td>\n",
       "      <td>20.00</td>\n",
       "      <td>20.0</td>\n",
       "      <td>1</td>\n",
       "      <td>5.000</td>\n",
       "      <td>1.495050</td>\n",
       "      <td>0</td>\n",
       "      <td>1</td>\n",
       "    </tr>\n",
       "    <tr>\n",
       "      <td>28777</td>\n",
       "      <td>5374240</td>\n",
       "      <td>NaN</td>\n",
       "      <td>7.871716e+05</td>\n",
       "      <td>buy</td>\n",
       "      <td>2.0</td>\n",
       "      <td>gbpjpy</td>\n",
       "      <td>138.05500</td>\n",
       "      <td>0.0</td>\n",
       "      <td>0.0</td>\n",
       "      <td>0</td>\n",
       "      <td>...</td>\n",
       "      <td>0</td>\n",
       "      <td>6</td>\n",
       "      <td>7.874931e+05</td>\n",
       "      <td>10.00</td>\n",
       "      <td>10.0</td>\n",
       "      <td>1</td>\n",
       "      <td>2.000</td>\n",
       "      <td>1.500000</td>\n",
       "      <td>1</td>\n",
       "      <td>1</td>\n",
       "    </tr>\n",
       "    <tr>\n",
       "      <td>29636</td>\n",
       "      <td>5373659</td>\n",
       "      <td>NaN</td>\n",
       "      <td>8.607976e+05</td>\n",
       "      <td>buy</td>\n",
       "      <td>0.5</td>\n",
       "      <td>gbpjpy</td>\n",
       "      <td>138.91200</td>\n",
       "      <td>0.0</td>\n",
       "      <td>0.0</td>\n",
       "      <td>0</td>\n",
       "      <td>...</td>\n",
       "      <td>0</td>\n",
       "      <td>9</td>\n",
       "      <td>8.693366e+05</td>\n",
       "      <td>11.00</td>\n",
       "      <td>11.0</td>\n",
       "      <td>1</td>\n",
       "      <td>1.000</td>\n",
       "      <td>1.492647</td>\n",
       "      <td>0</td>\n",
       "      <td>1</td>\n",
       "    </tr>\n",
       "    <tr>\n",
       "      <td>33868</td>\n",
       "      <td>14840</td>\n",
       "      <td>NaN</td>\n",
       "      <td>8.786571e+06</td>\n",
       "      <td>buy</td>\n",
       "      <td>4.0</td>\n",
       "      <td>nzdusd</td>\n",
       "      <td>0.65891</td>\n",
       "      <td>0.0</td>\n",
       "      <td>0.0</td>\n",
       "      <td>0</td>\n",
       "      <td>...</td>\n",
       "      <td>0</td>\n",
       "      <td>1</td>\n",
       "      <td>8.786571e+06</td>\n",
       "      <td>4.00</td>\n",
       "      <td>4.0</td>\n",
       "      <td>1</td>\n",
       "      <td>4.000</td>\n",
       "      <td>2.000000</td>\n",
       "      <td>0</td>\n",
       "      <td>1</td>\n",
       "    </tr>\n",
       "    <tr>\n",
       "      <td>38608</td>\n",
       "      <td>200124512</td>\n",
       "      <td>NaN</td>\n",
       "      <td>4.586766e+05</td>\n",
       "      <td>buy</td>\n",
       "      <td>1.0</td>\n",
       "      <td>dowusd</td>\n",
       "      <td>29860.30000</td>\n",
       "      <td>0.0</td>\n",
       "      <td>0.0</td>\n",
       "      <td>0</td>\n",
       "      <td>...</td>\n",
       "      <td>0</td>\n",
       "      <td>6</td>\n",
       "      <td>4.623766e+05</td>\n",
       "      <td>6.00</td>\n",
       "      <td>6.0</td>\n",
       "      <td>1</td>\n",
       "      <td>1.000</td>\n",
       "      <td>1.995850</td>\n",
       "      <td>0</td>\n",
       "      <td>1</td>\n",
       "    </tr>\n",
       "    <tr>\n",
       "      <td>38838</td>\n",
       "      <td>200144965</td>\n",
       "      <td>NaN</td>\n",
       "      <td>4.591226e+05</td>\n",
       "      <td>sell</td>\n",
       "      <td>10.0</td>\n",
       "      <td>gbpusd</td>\n",
       "      <td>1.32204</td>\n",
       "      <td>0.0</td>\n",
       "      <td>0.0</td>\n",
       "      <td>0</td>\n",
       "      <td>...</td>\n",
       "      <td>0</td>\n",
       "      <td>2</td>\n",
       "      <td>4.617406e+05</td>\n",
       "      <td>20.00</td>\n",
       "      <td>20.0</td>\n",
       "      <td>1</td>\n",
       "      <td>10.000</td>\n",
       "      <td>1.000000</td>\n",
       "      <td>0</td>\n",
       "      <td>1</td>\n",
       "    </tr>\n",
       "    <tr>\n",
       "      <td>42100</td>\n",
       "      <td>200135389</td>\n",
       "      <td>NaN</td>\n",
       "      <td>4.633536e+05</td>\n",
       "      <td>buy limit</td>\n",
       "      <td>5.0</td>\n",
       "      <td>gbpusd</td>\n",
       "      <td>1.32000</td>\n",
       "      <td>0.0</td>\n",
       "      <td>0.0</td>\n",
       "      <td>0</td>\n",
       "      <td>...</td>\n",
       "      <td>0</td>\n",
       "      <td>2</td>\n",
       "      <td>4.633536e+05</td>\n",
       "      <td>10.00</td>\n",
       "      <td>5.0</td>\n",
       "      <td>2</td>\n",
       "      <td>5.000</td>\n",
       "      <td>1.500000</td>\n",
       "      <td>1</td>\n",
       "      <td>1</td>\n",
       "    </tr>\n",
       "    <tr>\n",
       "      <td>56980</td>\n",
       "      <td>200160849</td>\n",
       "      <td>NaN</td>\n",
       "      <td>5.096156e+05</td>\n",
       "      <td>buy</td>\n",
       "      <td>5.0</td>\n",
       "      <td>gbpjpy</td>\n",
       "      <td>138.29700</td>\n",
       "      <td>0.0</td>\n",
       "      <td>0.0</td>\n",
       "      <td>0</td>\n",
       "      <td>...</td>\n",
       "      <td>0</td>\n",
       "      <td>5</td>\n",
       "      <td>5.099601e+05</td>\n",
       "      <td>10.07</td>\n",
       "      <td>10.0</td>\n",
       "      <td>2</td>\n",
       "      <td>5.000</td>\n",
       "      <td>1.962890</td>\n",
       "      <td>1</td>\n",
       "      <td>1</td>\n",
       "    </tr>\n",
       "  </tbody>\n",
       "</table>\n",
       "<p>9 rows × 27 columns</p>\n",
       "</div>"
      ],
      "text/plain": [
       "         Account  Ticket          Time       Type  Volume  Symbol  \\\n",
       "7797     5338978     NaN  4.623356e+05       sell    10.0  gbpusd   \n",
       "24917    5369306     NaN  5.321226e+05        buy     5.0  gbpusd   \n",
       "28777    5374240     NaN  7.871716e+05        buy     2.0  gbpjpy   \n",
       "29636    5373659     NaN  8.607976e+05        buy     0.5  gbpjpy   \n",
       "33868      14840     NaN  8.786571e+06        buy     4.0  nzdusd   \n",
       "38608  200124512     NaN  4.586766e+05        buy     1.0  dowusd   \n",
       "38838  200144965     NaN  4.591226e+05       sell    10.0  gbpusd   \n",
       "42100  200135389     NaN  4.633536e+05  buy limit     5.0  gbpusd   \n",
       "56980  200160849     NaN  5.096156e+05        buy     5.0  gbpjpy   \n",
       "\n",
       "        Open Price  S / L  T / P Close Time  ...  Target  Num_of_order  \\\n",
       "7797       1.32110    0.0    0.0          0  ...       0             2   \n",
       "24917      1.32178    0.0    0.0          0  ...       0             4   \n",
       "28777    138.05500    0.0    0.0          0  ...       0             6   \n",
       "29636    138.91200    0.0    0.0          0  ...       0             9   \n",
       "33868      0.65891    0.0    0.0          0  ...       0             1   \n",
       "38608  29860.30000    0.0    0.0          0  ...       0             6   \n",
       "38838      1.32204    0.0    0.0          0  ...       0             2   \n",
       "42100      1.32000    0.0    0.0          0  ...       0             2   \n",
       "56980    138.29700    0.0    0.0          0  ...       0             5   \n",
       "\n",
       "        Time_median Sum_of_vol Sum_of_vol_type  Num_of_sym  Volume_median  \\\n",
       "7797   4.849246e+05      10.01            10.0           2          5.005   \n",
       "24917  5.321666e+05      20.00            20.0           1          5.000   \n",
       "28777  7.874931e+05      10.00            10.0           1          2.000   \n",
       "29636  8.693366e+05      11.00            11.0           1          1.000   \n",
       "33868  8.786571e+06       4.00             4.0           1          4.000   \n",
       "38608  4.623766e+05       6.00             6.0           1          1.000   \n",
       "38838  4.617406e+05      20.00            20.0           1         10.000   \n",
       "42100  4.633536e+05      10.00             5.0           2          5.000   \n",
       "56980  5.099601e+05      10.07            10.0           2          5.000   \n",
       "\n",
       "       Bal_on_bonus  Y_hat  Y_hat_rdf  \n",
       "7797       0.990984      0          1  \n",
       "24917      1.495050      0          1  \n",
       "28777      1.500000      1          1  \n",
       "29636      1.492647      0          1  \n",
       "33868      2.000000      0          1  \n",
       "38608      1.995850      0          1  \n",
       "38838      1.000000      0          1  \n",
       "42100      1.500000      1          1  \n",
       "56980      1.962890      1          1  \n",
       "\n",
       "[9 rows x 27 columns]"
      ]
     },
     "execution_count": 73,
     "metadata": {},
     "output_type": "execute_result"
    }
   ],
   "source": [
    "df_modeling[(df_modeling.Target==0) & (df_modeling.Y_hat_rdf==1)]"
   ]
  },
  {
   "cell_type": "code",
   "execution_count": 79,
   "metadata": {},
   "outputs": [
    {
     "data": {
      "text/html": [
       "<div>\n",
       "<style scoped>\n",
       "    .dataframe tbody tr th:only-of-type {\n",
       "        vertical-align: middle;\n",
       "    }\n",
       "\n",
       "    .dataframe tbody tr th {\n",
       "        vertical-align: top;\n",
       "    }\n",
       "\n",
       "    .dataframe thead th {\n",
       "        text-align: right;\n",
       "    }\n",
       "</style>\n",
       "<table border=\"1\" class=\"dataframe\">\n",
       "  <thead>\n",
       "    <tr style=\"text-align: right;\">\n",
       "      <th></th>\n",
       "      <th>Account</th>\n",
       "      <th>Ticket</th>\n",
       "      <th>Time</th>\n",
       "      <th>Type</th>\n",
       "      <th>Volume</th>\n",
       "      <th>Symbol</th>\n",
       "      <th>Open Price</th>\n",
       "      <th>S / L</th>\n",
       "      <th>T / P</th>\n",
       "      <th>Close Time</th>\n",
       "      <th>...</th>\n",
       "      <th>Target</th>\n",
       "      <th>Num_of_order</th>\n",
       "      <th>Time_median</th>\n",
       "      <th>Sum_of_vol</th>\n",
       "      <th>Sum_of_vol_type</th>\n",
       "      <th>Num_of_sym</th>\n",
       "      <th>Volume_median</th>\n",
       "      <th>Bal_on_bonus</th>\n",
       "      <th>Y_hat</th>\n",
       "      <th>Y_hat_rdf</th>\n",
       "    </tr>\n",
       "  </thead>\n",
       "  <tbody>\n",
       "    <tr>\n",
       "      <td>571</td>\n",
       "      <td>200111234</td>\n",
       "      <td>42384055.0</td>\n",
       "      <td>2.437797e+07</td>\n",
       "      <td>buy</td>\n",
       "      <td>8.00</td>\n",
       "      <td>usdjpy</td>\n",
       "      <td>109.7920</td>\n",
       "      <td>109.12</td>\n",
       "      <td>110.392</td>\n",
       "      <td>NaN</td>\n",
       "      <td>...</td>\n",
       "      <td>1</td>\n",
       "      <td>1</td>\n",
       "      <td>2.437797e+07</td>\n",
       "      <td>8.00</td>\n",
       "      <td>8.00</td>\n",
       "      <td>1</td>\n",
       "      <td>8.000</td>\n",
       "      <td>1.500000</td>\n",
       "      <td>0</td>\n",
       "      <td>0</td>\n",
       "    </tr>\n",
       "    <tr>\n",
       "      <td>605</td>\n",
       "      <td>200075521</td>\n",
       "      <td>38954809.0</td>\n",
       "      <td>2.944237e+07</td>\n",
       "      <td>sell</td>\n",
       "      <td>9.99</td>\n",
       "      <td>gbpjpy</td>\n",
       "      <td>143.8700</td>\n",
       "      <td>0.00</td>\n",
       "      <td>143.140</td>\n",
       "      <td>NaN</td>\n",
       "      <td>...</td>\n",
       "      <td>1</td>\n",
       "      <td>3</td>\n",
       "      <td>2.343755e+07</td>\n",
       "      <td>35.29</td>\n",
       "      <td>22.29</td>\n",
       "      <td>1</td>\n",
       "      <td>11.145</td>\n",
       "      <td>2.273973</td>\n",
       "      <td>0</td>\n",
       "      <td>0</td>\n",
       "    </tr>\n",
       "    <tr>\n",
       "      <td>715</td>\n",
       "      <td>5354392</td>\n",
       "      <td>60692307.0</td>\n",
       "      <td>4.654964e+06</td>\n",
       "      <td>buy</td>\n",
       "      <td>1.00</td>\n",
       "      <td>gbpjpy</td>\n",
       "      <td>135.9210</td>\n",
       "      <td>135.15</td>\n",
       "      <td>136.650</td>\n",
       "      <td>2020.09.30 09:08:56</td>\n",
       "      <td>...</td>\n",
       "      <td>1</td>\n",
       "      <td>2</td>\n",
       "      <td>4.654829e+06</td>\n",
       "      <td>5.00</td>\n",
       "      <td>5.00</td>\n",
       "      <td>1</td>\n",
       "      <td>2.500</td>\n",
       "      <td>1.882353</td>\n",
       "      <td>0</td>\n",
       "      <td>0</td>\n",
       "    </tr>\n",
       "    <tr>\n",
       "      <td>937</td>\n",
       "      <td>200146263</td>\n",
       "      <td>NaN</td>\n",
       "      <td>9.853574e+06</td>\n",
       "      <td>sell</td>\n",
       "      <td>2.00</td>\n",
       "      <td>usdjpy</td>\n",
       "      <td>104.5000</td>\n",
       "      <td>0.00</td>\n",
       "      <td>0.000</td>\n",
       "      <td>NaN</td>\n",
       "      <td>...</td>\n",
       "      <td>1</td>\n",
       "      <td>9</td>\n",
       "      <td>9.584765e+06</td>\n",
       "      <td>12.00</td>\n",
       "      <td>12.00</td>\n",
       "      <td>1</td>\n",
       "      <td>1.000</td>\n",
       "      <td>2.010966</td>\n",
       "      <td>0</td>\n",
       "      <td>0</td>\n",
       "    </tr>\n",
       "    <tr>\n",
       "      <td>1018</td>\n",
       "      <td>200193949</td>\n",
       "      <td>NaN</td>\n",
       "      <td>9.875439e+06</td>\n",
       "      <td>buy</td>\n",
       "      <td>1.00</td>\n",
       "      <td>usdjpy</td>\n",
       "      <td>104.2240</td>\n",
       "      <td>0.00</td>\n",
       "      <td>0.000</td>\n",
       "      <td>NaN</td>\n",
       "      <td>...</td>\n",
       "      <td>1</td>\n",
       "      <td>10</td>\n",
       "      <td>9.589933e+06</td>\n",
       "      <td>12.50</td>\n",
       "      <td>12.50</td>\n",
       "      <td>1</td>\n",
       "      <td>1.000</td>\n",
       "      <td>2.061280</td>\n",
       "      <td>0</td>\n",
       "      <td>0</td>\n",
       "    </tr>\n",
       "    <tr>\n",
       "      <td>1028</td>\n",
       "      <td>200146270</td>\n",
       "      <td>NaN</td>\n",
       "      <td>9.850539e+06</td>\n",
       "      <td>sell</td>\n",
       "      <td>2.00</td>\n",
       "      <td>usdjpy</td>\n",
       "      <td>104.7100</td>\n",
       "      <td>0.00</td>\n",
       "      <td>0.000</td>\n",
       "      <td>NaN</td>\n",
       "      <td>...</td>\n",
       "      <td>1</td>\n",
       "      <td>8</td>\n",
       "      <td>9.552958e+06</td>\n",
       "      <td>12.45</td>\n",
       "      <td>12.45</td>\n",
       "      <td>1</td>\n",
       "      <td>1.725</td>\n",
       "      <td>2.028062</td>\n",
       "      <td>0</td>\n",
       "      <td>0</td>\n",
       "    </tr>\n",
       "    <tr>\n",
       "      <td>1129</td>\n",
       "      <td>200180934</td>\n",
       "      <td>48751212.0</td>\n",
       "      <td>1.889034e+07</td>\n",
       "      <td>sell</td>\n",
       "      <td>2.00</td>\n",
       "      <td>usdjpy</td>\n",
       "      <td>107.5130</td>\n",
       "      <td>108.59</td>\n",
       "      <td>106.878</td>\n",
       "      <td>2020.04.28 12:19:13</td>\n",
       "      <td>...</td>\n",
       "      <td>1</td>\n",
       "      <td>9</td>\n",
       "      <td>1.863748e+07</td>\n",
       "      <td>11.50</td>\n",
       "      <td>11.50</td>\n",
       "      <td>1</td>\n",
       "      <td>1.000</td>\n",
       "      <td>1.928571</td>\n",
       "      <td>0</td>\n",
       "      <td>0</td>\n",
       "    </tr>\n",
       "    <tr>\n",
       "      <td>1178</td>\n",
       "      <td>200191412</td>\n",
       "      <td>52143736.0</td>\n",
       "      <td>1.543150e+07</td>\n",
       "      <td>sell</td>\n",
       "      <td>2.00</td>\n",
       "      <td>usdjpy</td>\n",
       "      <td>107.7080</td>\n",
       "      <td>0.00</td>\n",
       "      <td>106.945</td>\n",
       "      <td>2020.06.02 15:07:48</td>\n",
       "      <td>...</td>\n",
       "      <td>1</td>\n",
       "      <td>9</td>\n",
       "      <td>1.535649e+07</td>\n",
       "      <td>14.50</td>\n",
       "      <td>14.50</td>\n",
       "      <td>1</td>\n",
       "      <td>2.000</td>\n",
       "      <td>1.975610</td>\n",
       "      <td>0</td>\n",
       "      <td>0</td>\n",
       "    </tr>\n",
       "    <tr>\n",
       "      <td>1260</td>\n",
       "      <td>5361832</td>\n",
       "      <td>61131103.0</td>\n",
       "      <td>3.391985e+06</td>\n",
       "      <td>sell</td>\n",
       "      <td>2.00</td>\n",
       "      <td>usdtry</td>\n",
       "      <td>7.9211</td>\n",
       "      <td>0.00</td>\n",
       "      <td>7.800</td>\n",
       "      <td>NaN</td>\n",
       "      <td>...</td>\n",
       "      <td>1</td>\n",
       "      <td>7</td>\n",
       "      <td>3.391929e+06</td>\n",
       "      <td>14.00</td>\n",
       "      <td>14.00</td>\n",
       "      <td>1</td>\n",
       "      <td>2.000</td>\n",
       "      <td>1.994380</td>\n",
       "      <td>0</td>\n",
       "      <td>0</td>\n",
       "    </tr>\n",
       "  </tbody>\n",
       "</table>\n",
       "<p>9 rows × 27 columns</p>\n",
       "</div>"
      ],
      "text/plain": [
       "        Account      Ticket          Time  Type  Volume  Symbol  Open Price  \\\n",
       "571   200111234  42384055.0  2.437797e+07   buy    8.00  usdjpy    109.7920   \n",
       "605   200075521  38954809.0  2.944237e+07  sell    9.99  gbpjpy    143.8700   \n",
       "715     5354392  60692307.0  4.654964e+06   buy    1.00  gbpjpy    135.9210   \n",
       "937   200146263         NaN  9.853574e+06  sell    2.00  usdjpy    104.5000   \n",
       "1018  200193949         NaN  9.875439e+06   buy    1.00  usdjpy    104.2240   \n",
       "1028  200146270         NaN  9.850539e+06  sell    2.00  usdjpy    104.7100   \n",
       "1129  200180934  48751212.0  1.889034e+07  sell    2.00  usdjpy    107.5130   \n",
       "1178  200191412  52143736.0  1.543150e+07  sell    2.00  usdjpy    107.7080   \n",
       "1260    5361832  61131103.0  3.391985e+06  sell    2.00  usdtry      7.9211   \n",
       "\n",
       "       S / L    T / P           Close Time  ...  Target  Num_of_order  \\\n",
       "571   109.12  110.392                  NaN  ...       1             1   \n",
       "605     0.00  143.140                  NaN  ...       1             3   \n",
       "715   135.15  136.650  2020.09.30 09:08:56  ...       1             2   \n",
       "937     0.00    0.000                  NaN  ...       1             9   \n",
       "1018    0.00    0.000                  NaN  ...       1            10   \n",
       "1028    0.00    0.000                  NaN  ...       1             8   \n",
       "1129  108.59  106.878  2020.04.28 12:19:13  ...       1             9   \n",
       "1178    0.00  106.945  2020.06.02 15:07:48  ...       1             9   \n",
       "1260    0.00    7.800                  NaN  ...       1             7   \n",
       "\n",
       "       Time_median Sum_of_vol Sum_of_vol_type  Num_of_sym  Volume_median  \\\n",
       "571   2.437797e+07       8.00            8.00           1          8.000   \n",
       "605   2.343755e+07      35.29           22.29           1         11.145   \n",
       "715   4.654829e+06       5.00            5.00           1          2.500   \n",
       "937   9.584765e+06      12.00           12.00           1          1.000   \n",
       "1018  9.589933e+06      12.50           12.50           1          1.000   \n",
       "1028  9.552958e+06      12.45           12.45           1          1.725   \n",
       "1129  1.863748e+07      11.50           11.50           1          1.000   \n",
       "1178  1.535649e+07      14.50           14.50           1          2.000   \n",
       "1260  3.391929e+06      14.00           14.00           1          2.000   \n",
       "\n",
       "      Bal_on_bonus  Y_hat  Y_hat_rdf  \n",
       "571       1.500000      0          0  \n",
       "605       2.273973      0          0  \n",
       "715       1.882353      0          0  \n",
       "937       2.010966      0          0  \n",
       "1018      2.061280      0          0  \n",
       "1028      2.028062      0          0  \n",
       "1129      1.928571      0          0  \n",
       "1178      1.975610      0          0  \n",
       "1260      1.994380      0          0  \n",
       "\n",
       "[9 rows x 27 columns]"
      ]
     },
     "execution_count": 79,
     "metadata": {},
     "output_type": "execute_result"
    }
   ],
   "source": [
    "df_modeling[(df_modeling.Target==1) & (df_modeling.Y_hat_rdf==0)]"
   ]
  },
  {
   "cell_type": "code",
   "execution_count": 48,
   "metadata": {},
   "outputs": [],
   "source": [
    "rdf_ada = RandomForestClassifier()"
   ]
  },
  {
   "cell_type": "code",
   "execution_count": 49,
   "metadata": {},
   "outputs": [],
   "source": [
    "from sklearn.ensemble import AdaBoostClassifier\n",
    "clf = AdaBoostClassifier(base_estimator=rdf_ada)"
   ]
  },
  {
   "cell_type": "code",
   "execution_count": 50,
   "metadata": {
    "scrolled": true
   },
   "outputs": [
    {
     "data": {
      "text/plain": [
       "AdaBoostClassifier(base_estimator=RandomForestClassifier())"
      ]
     },
     "execution_count": 50,
     "metadata": {},
     "output_type": "execute_result"
    }
   ],
   "source": [
    "clf.fit(X_train,Y_train)"
   ]
  },
  {
   "cell_type": "code",
   "execution_count": 51,
   "metadata": {},
   "outputs": [
    {
     "name": "stdout",
     "output_type": "stream",
     "text": [
      "Adaboost with random forest classification accuracy : 0.9989699823425544\n"
     ]
    }
   ],
   "source": [
    "print(\"Adaboost with random forest classification accuracy :\",clf.score(X_test,Y_test))"
   ]
  },
  {
   "cell_type": "code",
   "execution_count": 52,
   "metadata": {},
   "outputs": [
    {
     "name": "stdout",
     "output_type": "stream",
     "text": [
      "- Precision and Recall Metric\n",
      "              precision    recall  f1-score   support\n",
      "\n",
      "           0       1.00      1.00      1.00      6767\n",
      "           1       0.87      0.90      0.88        29\n",
      "\n",
      "    accuracy                           1.00      6796\n",
      "   macro avg       0.93      0.95      0.94      6796\n",
      "weighted avg       1.00      1.00      1.00      6796\n",
      "\n",
      "- Confusion Metric\n",
      "[[6763    4]\n",
      " [   3   26]]\n"
     ]
    }
   ],
   "source": [
    "pt.danh_gia_mo_hinh_logistic(Y_test,clf.predict(X_test))"
   ]
  },
  {
   "cell_type": "markdown",
   "metadata": {},
   "source": [
    "# Kết luận cuối cùng\n",
    "    1. Ta sử dụng mô hình với random forest với adaboost với độ chính xác là 99%. Và Class 0 [Precision = 1, recall = 1], Class 1 [Precision = 0.98, recall = 0.96]\n",
    "    2. Xem xét các record thường bị lẫn lộn trong class 1 thì ta thấy được các giao dịch gian lận có số lượng number of order khá là cao với volume khá thấp chỉ bằng 1, 0.5. Rất dễ làm cho mô hình bị lẫn lộn với giao dịch thường.\n",
    "    3. Các giao dịch bình thường sử bị lẫn lộn là gian lận thực chất là rất giống với giao dịch gian lận. Nên việc mô hình bị lẫn lộn là khá bình thường. Vì việc đánh giá gian lận hay không không chỉ phụ thuộc vào 1 giao dịch mà còn lịch sử các giao dịch trong tài khoản đó nữa. Và việc này rất cảm tính nên khó có thể chính xác 100%."
   ]
  },
  {
   "cell_type": "code",
   "execution_count": 53,
   "metadata": {},
   "outputs": [],
   "source": [
    "# lưu lại random forest model\n",
    "filename = 'ada_random_forest__2_bonus_23112020.sav'\n",
    "pickle.dump(clf, open(filename, 'wb'))"
   ]
  },
  {
   "cell_type": "code",
   "execution_count": null,
   "metadata": {},
   "outputs": [],
   "source": []
  },
  {
   "cell_type": "code",
   "execution_count": null,
   "metadata": {},
   "outputs": [],
   "source": []
  }
 ],
 "metadata": {
  "colab": {
   "authorship_tag": "ABX9TyPdET3+6wRrdi4BKfZCFUPh",
   "collapsed_sections": [],
   "name": "Other.ipynb",
   "provenance": []
  },
  "kernelspec": {
   "display_name": "Python 3",
   "language": "python",
   "name": "python3"
  },
  "language_info": {
   "codemirror_mode": {
    "name": "ipython",
    "version": 3
   },
   "file_extension": ".py",
   "mimetype": "text/x-python",
   "name": "python",
   "nbconvert_exporter": "python",
   "pygments_lexer": "ipython3",
   "version": "3.7.4"
  }
 },
 "nbformat": 4,
 "nbformat_minor": 1
}
